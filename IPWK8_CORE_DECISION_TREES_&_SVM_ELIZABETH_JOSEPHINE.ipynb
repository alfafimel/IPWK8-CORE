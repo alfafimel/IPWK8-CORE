{
  "nbformat": 4,
  "nbformat_minor": 0,
  "metadata": {
    "colab": {
      "name": "IPWK8_CORE_DECISION_TREES_&_SVM_ELIZABETH_JOSEPHINE",
      "provenance": [],
      "collapsed_sections": [
        "PzyiSh09V1UE",
        "ONQ30G-iPJn8"
      ],
      "authorship_tag": "ABX9TyNYiAR7HMWBdZgRpJMbTuDa",
      "include_colab_link": true
    },
    "kernelspec": {
      "name": "python3",
      "display_name": "Python 3"
    }
  },
  "cells": [
    {
      "cell_type": "markdown",
      "metadata": {
        "id": "view-in-github",
        "colab_type": "text"
      },
      "source": [
        "<a href=\"https://colab.research.google.com/github/alfafimel/IPWK8-CORE/blob/main/IPWK8_CORE_DECISION_TREES_%26_SVM_ELIZABETH_JOSEPHINE.ipynb\" target=\"_parent\"><img src=\"https://colab.research.google.com/assets/colab-badge.svg\" alt=\"Open In Colab\"/></a>"
      ]
    },
    {
      "cell_type": "markdown",
      "metadata": {
        "id": "PzyiSh09V1UE"
      },
      "source": [
        "# **DEFINING THE QUESTION**"
      ]
    },
    {
      "cell_type": "markdown",
      "metadata": {
        "id": "AOAnpTqyXj8J"
      },
      "source": [
        "## **a) Specifying the Question**\n",
        "Nairobi Hospital conducted a clinical camp to test for hypothyroidism. The data collected focused on Thyroid patients. Use the healthcare datasets provided to accomplish the following:  \n",
        "\n",
        "Build a model that determines whether or not the patient's symptoms indicate that the patient has hypothyroid."
      ]
    },
    {
      "cell_type": "markdown",
      "metadata": {
        "id": "UDM4QNnoXsGc"
      },
      "source": [
        "## **b) Defining the metrics for success**\n",
        "\n",
        "Building of a model that determines whether or not the patient's symptoms indicate that the patient has hypothyroid."
      ]
    },
    {
      "cell_type": "markdown",
      "metadata": {
        "id": "L8ngyeNGX8Dj"
      },
      "source": [
        "## **c) Understanding the context**\n",
        "\n",
        "Knowing the determinant symptoms of hypothroid"
      ]
    },
    {
      "cell_type": "markdown",
      "metadata": {
        "id": "78AjZ_RgYITQ"
      },
      "source": [
        "## **d) Recording the Experimental Design**\n",
        "\n",
        "1.   Define the question, the metric for success, the context, experimental design taken.\n",
        "2. Read and explore the given dataset.\n",
        "3. Define the appropriateness of the available data to answer the given question.\n",
        "4. Find and deal with outliers, anomalies, and missing data within the dataset.\n",
        "5. Perform univariate, bivariate and multivariate analysis recording your observations.\n",
        "6. Performing regression analysis.\n",
        "> - For this section, you should build a model that makes the above prediction. You should not use individual decision trees, rather you should use at least 2 out of the 3 advanced models we have studied: Random forests, Ada boosted trees, and gradient boosted trees.\n",
        "- Try and optimize each of the 2 models, making sure to document how you've set up your hyperparameters.\n",
        "- Identify which of the 2 models you trust most, and use your model to determine which features are most impactful in influencing the prediction\n",
        "7. Provide a recommendation based on your analysis. \n",
        "> C- In this section, you may be required to clean the data a little bit so as to make sense of the features.\n",
        "\n",
        "- Document what transformation you've done on the data.\n",
        "\n",
        "- Apply Polynomial, linear and rbf kernel function to build your SVM model and then evaluate their performance and pick the kernel that performs the best. Remember to tune your parameters to improve the performance of your model. To make your life easier, make sure to visualize the models you've created. Use any two features to build the models for this step.\n",
        "\n",
        "Hint: You may want to use decision trees to give you the most preferable features you can use. but also keep in mind that those features might not be suitable for SVM. It might be a good idea to graph them first.\n",
        "\n",
        "-  After getting your best performing kernel, use this kernel together with your tuned parameters and repeat the prediction but this time using additional features. Compare the model you've just created with the 2-features version. \n",
        "8. Challenge your solution by providing insights on how you can make improvements in model improvement."
      ]
    },
    {
      "cell_type": "markdown",
      "metadata": {
        "id": "RbCQdWNqYR41"
      },
      "source": [
        "## **e) Relevance of the data**\n",
        "\n",
        "The data used for this project is necessary for building a model that determines whether or not the patient's symptoms indicate that the patient has hypothyroid.\n",
        "\n",
        "[http://bit.ly/hypothyroid_data]."
      ]
    },
    {
      "cell_type": "markdown",
      "metadata": {
        "id": "afVKIlhcWTYy"
      },
      "source": [
        "# **DATA ANALYSIS**"
      ]
    },
    {
      "cell_type": "markdown",
      "metadata": {
        "id": "Ihbtr2Xeqxqi"
      },
      "source": [
        "### **Data Checking**"
      ]
    },
    {
      "cell_type": "code",
      "metadata": {
        "id": "nfHhHUEXWWGe"
      },
      "source": [
        "# importing libraries\n",
        "import pandas as pd\n",
        "import numpy as np\n",
        "import seaborn as sns\n",
        "import matplotlib\n",
        "from matplotlib import pyplot as plt\n",
        "%matplotlib inline"
      ],
      "execution_count": 1,
      "outputs": []
    },
    {
      "cell_type": "code",
      "metadata": {
        "id": "L3zdMo9YY0_F"
      },
      "source": [
        "# reading datasets\n",
        "df = pd.read_csv('http://bit.ly/hypothyroid_data')"
      ],
      "execution_count": 2,
      "outputs": []
    },
    {
      "cell_type": "code",
      "metadata": {
        "id": "ee3TnljiZs3b",
        "outputId": "c2edbc63-6e34-4199-c570-940da02d40aa",
        "colab": {
          "base_uri": "https://localhost:8080/",
          "height": 34
        }
      },
      "source": [
        "# previewing the dataset\n",
        "df.shape"
      ],
      "execution_count": 3,
      "outputs": [
        {
          "output_type": "execute_result",
          "data": {
            "text/plain": [
              "(3163, 26)"
            ]
          },
          "metadata": {
            "tags": []
          },
          "execution_count": 3
        }
      ]
    },
    {
      "cell_type": "code",
      "metadata": {
        "id": "pNQNFZaGaxUn",
        "outputId": "189447d1-dc5d-4441-dc58-176fe8e5ae8b",
        "colab": {
          "base_uri": "https://localhost:8080/",
          "height": 224
        }
      },
      "source": [
        "# previewing the top of the dataset\n",
        "df.head()"
      ],
      "execution_count": 4,
      "outputs": [
        {
          "output_type": "execute_result",
          "data": {
            "text/html": [
              "<div>\n",
              "<style scoped>\n",
              "    .dataframe tbody tr th:only-of-type {\n",
              "        vertical-align: middle;\n",
              "    }\n",
              "\n",
              "    .dataframe tbody tr th {\n",
              "        vertical-align: top;\n",
              "    }\n",
              "\n",
              "    .dataframe thead th {\n",
              "        text-align: right;\n",
              "    }\n",
              "</style>\n",
              "<table border=\"1\" class=\"dataframe\">\n",
              "  <thead>\n",
              "    <tr style=\"text-align: right;\">\n",
              "      <th></th>\n",
              "      <th>status</th>\n",
              "      <th>age</th>\n",
              "      <th>sex</th>\n",
              "      <th>on_thyroxine</th>\n",
              "      <th>query_on_thyroxine</th>\n",
              "      <th>on_antithyroid_medication</th>\n",
              "      <th>thyroid_surgery</th>\n",
              "      <th>query_hypothyroid</th>\n",
              "      <th>query_hyperthyroid</th>\n",
              "      <th>pregnant</th>\n",
              "      <th>sick</th>\n",
              "      <th>tumor</th>\n",
              "      <th>lithium</th>\n",
              "      <th>goitre</th>\n",
              "      <th>TSH_measured</th>\n",
              "      <th>TSH</th>\n",
              "      <th>T3_measured</th>\n",
              "      <th>T3</th>\n",
              "      <th>TT4_measured</th>\n",
              "      <th>TT4</th>\n",
              "      <th>T4U_measured</th>\n",
              "      <th>T4U</th>\n",
              "      <th>FTI_measured</th>\n",
              "      <th>FTI</th>\n",
              "      <th>TBG_measured</th>\n",
              "      <th>TBG</th>\n",
              "    </tr>\n",
              "  </thead>\n",
              "  <tbody>\n",
              "    <tr>\n",
              "      <th>0</th>\n",
              "      <td>hypothyroid</td>\n",
              "      <td>72</td>\n",
              "      <td>M</td>\n",
              "      <td>f</td>\n",
              "      <td>f</td>\n",
              "      <td>f</td>\n",
              "      <td>f</td>\n",
              "      <td>f</td>\n",
              "      <td>f</td>\n",
              "      <td>f</td>\n",
              "      <td>f</td>\n",
              "      <td>f</td>\n",
              "      <td>f</td>\n",
              "      <td>f</td>\n",
              "      <td>y</td>\n",
              "      <td>30</td>\n",
              "      <td>y</td>\n",
              "      <td>0.60</td>\n",
              "      <td>y</td>\n",
              "      <td>15</td>\n",
              "      <td>y</td>\n",
              "      <td>1.48</td>\n",
              "      <td>y</td>\n",
              "      <td>10</td>\n",
              "      <td>n</td>\n",
              "      <td>?</td>\n",
              "    </tr>\n",
              "    <tr>\n",
              "      <th>1</th>\n",
              "      <td>hypothyroid</td>\n",
              "      <td>15</td>\n",
              "      <td>F</td>\n",
              "      <td>t</td>\n",
              "      <td>f</td>\n",
              "      <td>f</td>\n",
              "      <td>f</td>\n",
              "      <td>f</td>\n",
              "      <td>f</td>\n",
              "      <td>f</td>\n",
              "      <td>f</td>\n",
              "      <td>f</td>\n",
              "      <td>f</td>\n",
              "      <td>f</td>\n",
              "      <td>y</td>\n",
              "      <td>145</td>\n",
              "      <td>y</td>\n",
              "      <td>1.70</td>\n",
              "      <td>y</td>\n",
              "      <td>19</td>\n",
              "      <td>y</td>\n",
              "      <td>1.13</td>\n",
              "      <td>y</td>\n",
              "      <td>17</td>\n",
              "      <td>n</td>\n",
              "      <td>?</td>\n",
              "    </tr>\n",
              "    <tr>\n",
              "      <th>2</th>\n",
              "      <td>hypothyroid</td>\n",
              "      <td>24</td>\n",
              "      <td>M</td>\n",
              "      <td>f</td>\n",
              "      <td>f</td>\n",
              "      <td>f</td>\n",
              "      <td>f</td>\n",
              "      <td>f</td>\n",
              "      <td>f</td>\n",
              "      <td>f</td>\n",
              "      <td>f</td>\n",
              "      <td>f</td>\n",
              "      <td>f</td>\n",
              "      <td>f</td>\n",
              "      <td>y</td>\n",
              "      <td>0</td>\n",
              "      <td>y</td>\n",
              "      <td>0.20</td>\n",
              "      <td>y</td>\n",
              "      <td>4</td>\n",
              "      <td>y</td>\n",
              "      <td>1</td>\n",
              "      <td>y</td>\n",
              "      <td>0</td>\n",
              "      <td>n</td>\n",
              "      <td>?</td>\n",
              "    </tr>\n",
              "    <tr>\n",
              "      <th>3</th>\n",
              "      <td>hypothyroid</td>\n",
              "      <td>24</td>\n",
              "      <td>F</td>\n",
              "      <td>f</td>\n",
              "      <td>f</td>\n",
              "      <td>f</td>\n",
              "      <td>f</td>\n",
              "      <td>f</td>\n",
              "      <td>f</td>\n",
              "      <td>f</td>\n",
              "      <td>f</td>\n",
              "      <td>f</td>\n",
              "      <td>f</td>\n",
              "      <td>f</td>\n",
              "      <td>y</td>\n",
              "      <td>430</td>\n",
              "      <td>y</td>\n",
              "      <td>0.40</td>\n",
              "      <td>y</td>\n",
              "      <td>6</td>\n",
              "      <td>y</td>\n",
              "      <td>1.04</td>\n",
              "      <td>y</td>\n",
              "      <td>6</td>\n",
              "      <td>n</td>\n",
              "      <td>?</td>\n",
              "    </tr>\n",
              "    <tr>\n",
              "      <th>4</th>\n",
              "      <td>hypothyroid</td>\n",
              "      <td>77</td>\n",
              "      <td>M</td>\n",
              "      <td>f</td>\n",
              "      <td>f</td>\n",
              "      <td>f</td>\n",
              "      <td>f</td>\n",
              "      <td>f</td>\n",
              "      <td>f</td>\n",
              "      <td>f</td>\n",
              "      <td>f</td>\n",
              "      <td>f</td>\n",
              "      <td>f</td>\n",
              "      <td>f</td>\n",
              "      <td>y</td>\n",
              "      <td>7.30</td>\n",
              "      <td>y</td>\n",
              "      <td>1.20</td>\n",
              "      <td>y</td>\n",
              "      <td>57</td>\n",
              "      <td>y</td>\n",
              "      <td>1.28</td>\n",
              "      <td>y</td>\n",
              "      <td>44</td>\n",
              "      <td>n</td>\n",
              "      <td>?</td>\n",
              "    </tr>\n",
              "  </tbody>\n",
              "</table>\n",
              "</div>"
            ],
            "text/plain": [
              "        status age sex on_thyroxine  ... FTI_measured FTI TBG_measured TBG\n",
              "0  hypothyroid  72   M            f  ...            y  10            n   ?\n",
              "1  hypothyroid  15   F            t  ...            y  17            n   ?\n",
              "2  hypothyroid  24   M            f  ...            y   0            n   ?\n",
              "3  hypothyroid  24   F            f  ...            y   6            n   ?\n",
              "4  hypothyroid  77   M            f  ...            y  44            n   ?\n",
              "\n",
              "[5 rows x 26 columns]"
            ]
          },
          "metadata": {
            "tags": []
          },
          "execution_count": 4
        }
      ]
    },
    {
      "cell_type": "code",
      "metadata": {
        "id": "levrJ5VDa09C",
        "outputId": "f1d5f6e3-53a9-4b3e-9139-561800890e30",
        "colab": {
          "base_uri": "https://localhost:8080/",
          "height": 224
        }
      },
      "source": [
        "# previewing the tail of the dataset\n",
        "df.tail()"
      ],
      "execution_count": 5,
      "outputs": [
        {
          "output_type": "execute_result",
          "data": {
            "text/html": [
              "<div>\n",
              "<style scoped>\n",
              "    .dataframe tbody tr th:only-of-type {\n",
              "        vertical-align: middle;\n",
              "    }\n",
              "\n",
              "    .dataframe tbody tr th {\n",
              "        vertical-align: top;\n",
              "    }\n",
              "\n",
              "    .dataframe thead th {\n",
              "        text-align: right;\n",
              "    }\n",
              "</style>\n",
              "<table border=\"1\" class=\"dataframe\">\n",
              "  <thead>\n",
              "    <tr style=\"text-align: right;\">\n",
              "      <th></th>\n",
              "      <th>status</th>\n",
              "      <th>age</th>\n",
              "      <th>sex</th>\n",
              "      <th>on_thyroxine</th>\n",
              "      <th>query_on_thyroxine</th>\n",
              "      <th>on_antithyroid_medication</th>\n",
              "      <th>thyroid_surgery</th>\n",
              "      <th>query_hypothyroid</th>\n",
              "      <th>query_hyperthyroid</th>\n",
              "      <th>pregnant</th>\n",
              "      <th>sick</th>\n",
              "      <th>tumor</th>\n",
              "      <th>lithium</th>\n",
              "      <th>goitre</th>\n",
              "      <th>TSH_measured</th>\n",
              "      <th>TSH</th>\n",
              "      <th>T3_measured</th>\n",
              "      <th>T3</th>\n",
              "      <th>TT4_measured</th>\n",
              "      <th>TT4</th>\n",
              "      <th>T4U_measured</th>\n",
              "      <th>T4U</th>\n",
              "      <th>FTI_measured</th>\n",
              "      <th>FTI</th>\n",
              "      <th>TBG_measured</th>\n",
              "      <th>TBG</th>\n",
              "    </tr>\n",
              "  </thead>\n",
              "  <tbody>\n",
              "    <tr>\n",
              "      <th>3158</th>\n",
              "      <td>negative</td>\n",
              "      <td>58</td>\n",
              "      <td>F</td>\n",
              "      <td>f</td>\n",
              "      <td>f</td>\n",
              "      <td>f</td>\n",
              "      <td>f</td>\n",
              "      <td>f</td>\n",
              "      <td>f</td>\n",
              "      <td>f</td>\n",
              "      <td>f</td>\n",
              "      <td>f</td>\n",
              "      <td>f</td>\n",
              "      <td>f</td>\n",
              "      <td>y</td>\n",
              "      <td>5.80</td>\n",
              "      <td>y</td>\n",
              "      <td>1.70</td>\n",
              "      <td>y</td>\n",
              "      <td>86</td>\n",
              "      <td>y</td>\n",
              "      <td>0.91</td>\n",
              "      <td>y</td>\n",
              "      <td>95</td>\n",
              "      <td>n</td>\n",
              "      <td>?</td>\n",
              "    </tr>\n",
              "    <tr>\n",
              "      <th>3159</th>\n",
              "      <td>negative</td>\n",
              "      <td>29</td>\n",
              "      <td>F</td>\n",
              "      <td>f</td>\n",
              "      <td>f</td>\n",
              "      <td>f</td>\n",
              "      <td>f</td>\n",
              "      <td>f</td>\n",
              "      <td>f</td>\n",
              "      <td>f</td>\n",
              "      <td>f</td>\n",
              "      <td>f</td>\n",
              "      <td>f</td>\n",
              "      <td>f</td>\n",
              "      <td>y</td>\n",
              "      <td>0.80</td>\n",
              "      <td>y</td>\n",
              "      <td>1.80</td>\n",
              "      <td>y</td>\n",
              "      <td>99</td>\n",
              "      <td>y</td>\n",
              "      <td>1.01</td>\n",
              "      <td>y</td>\n",
              "      <td>98</td>\n",
              "      <td>n</td>\n",
              "      <td>?</td>\n",
              "    </tr>\n",
              "    <tr>\n",
              "      <th>3160</th>\n",
              "      <td>negative</td>\n",
              "      <td>77</td>\n",
              "      <td>M</td>\n",
              "      <td>f</td>\n",
              "      <td>f</td>\n",
              "      <td>f</td>\n",
              "      <td>f</td>\n",
              "      <td>f</td>\n",
              "      <td>f</td>\n",
              "      <td>f</td>\n",
              "      <td>f</td>\n",
              "      <td>f</td>\n",
              "      <td>f</td>\n",
              "      <td>f</td>\n",
              "      <td>y</td>\n",
              "      <td>1.20</td>\n",
              "      <td>y</td>\n",
              "      <td>0.60</td>\n",
              "      <td>y</td>\n",
              "      <td>71</td>\n",
              "      <td>y</td>\n",
              "      <td>0.68</td>\n",
              "      <td>y</td>\n",
              "      <td>104</td>\n",
              "      <td>n</td>\n",
              "      <td>?</td>\n",
              "    </tr>\n",
              "    <tr>\n",
              "      <th>3161</th>\n",
              "      <td>negative</td>\n",
              "      <td>74</td>\n",
              "      <td>F</td>\n",
              "      <td>f</td>\n",
              "      <td>f</td>\n",
              "      <td>f</td>\n",
              "      <td>f</td>\n",
              "      <td>f</td>\n",
              "      <td>f</td>\n",
              "      <td>f</td>\n",
              "      <td>f</td>\n",
              "      <td>f</td>\n",
              "      <td>f</td>\n",
              "      <td>f</td>\n",
              "      <td>y</td>\n",
              "      <td>1.30</td>\n",
              "      <td>y</td>\n",
              "      <td>0.10</td>\n",
              "      <td>y</td>\n",
              "      <td>65</td>\n",
              "      <td>y</td>\n",
              "      <td>0.48</td>\n",
              "      <td>y</td>\n",
              "      <td>137</td>\n",
              "      <td>n</td>\n",
              "      <td>?</td>\n",
              "    </tr>\n",
              "    <tr>\n",
              "      <th>3162</th>\n",
              "      <td>negative</td>\n",
              "      <td>56</td>\n",
              "      <td>F</td>\n",
              "      <td>t</td>\n",
              "      <td>f</td>\n",
              "      <td>f</td>\n",
              "      <td>f</td>\n",
              "      <td>f</td>\n",
              "      <td>f</td>\n",
              "      <td>f</td>\n",
              "      <td>f</td>\n",
              "      <td>f</td>\n",
              "      <td>f</td>\n",
              "      <td>f</td>\n",
              "      <td>y</td>\n",
              "      <td>0</td>\n",
              "      <td>y</td>\n",
              "      <td>1.80</td>\n",
              "      <td>y</td>\n",
              "      <td>139</td>\n",
              "      <td>y</td>\n",
              "      <td>0.97</td>\n",
              "      <td>y</td>\n",
              "      <td>143</td>\n",
              "      <td>n</td>\n",
              "      <td>?</td>\n",
              "    </tr>\n",
              "  </tbody>\n",
              "</table>\n",
              "</div>"
            ],
            "text/plain": [
              "        status age sex on_thyroxine  ... FTI_measured  FTI TBG_measured TBG\n",
              "3158  negative  58   F            f  ...            y   95            n   ?\n",
              "3159  negative  29   F            f  ...            y   98            n   ?\n",
              "3160  negative  77   M            f  ...            y  104            n   ?\n",
              "3161  negative  74   F            f  ...            y  137            n   ?\n",
              "3162  negative  56   F            t  ...            y  143            n   ?\n",
              "\n",
              "[5 rows x 26 columns]"
            ]
          },
          "metadata": {
            "tags": []
          },
          "execution_count": 5
        }
      ]
    },
    {
      "cell_type": "code",
      "metadata": {
        "id": "Now4SvbPhzmh",
        "outputId": "b76642ef-2951-4d47-9fac-035ba9348a49",
        "colab": {
          "base_uri": "https://localhost:8080/",
          "height": 476
        }
      },
      "source": [
        "# printing the the number of unique values of the columns\n",
        "print(df.nunique())"
      ],
      "execution_count": 6,
      "outputs": [
        {
          "output_type": "stream",
          "text": [
            "status                         2\n",
            "age                           93\n",
            "sex                            3\n",
            "on_thyroxine                   2\n",
            "query_on_thyroxine             2\n",
            "on_antithyroid_medication      2\n",
            "thyroid_surgery                2\n",
            "query_hypothyroid              2\n",
            "query_hyperthyroid             2\n",
            "pregnant                       2\n",
            "sick                           2\n",
            "tumor                          2\n",
            "lithium                        2\n",
            "goitre                         2\n",
            "TSH_measured                   2\n",
            "TSH                          240\n",
            "T3_measured                    2\n",
            "T3                            70\n",
            "TT4_measured                   2\n",
            "TT4                          269\n",
            "T4U_measured                   2\n",
            "T4U                          159\n",
            "FTI_measured                   2\n",
            "FTI                          281\n",
            "TBG_measured                   2\n",
            "TBG                           53\n",
            "dtype: int64\n"
          ],
          "name": "stdout"
        }
      ]
    },
    {
      "cell_type": "code",
      "metadata": {
        "id": "-KRbNRDuZ2MO",
        "outputId": "a173ab80-53a1-44c0-fc2c-5df19a869776",
        "colab": {
          "base_uri": "https://localhost:8080/",
          "height": 119
        }
      },
      "source": [
        "# previewing the columns of the datasets\n",
        "df.columns"
      ],
      "execution_count": 7,
      "outputs": [
        {
          "output_type": "execute_result",
          "data": {
            "text/plain": [
              "Index(['status', 'age', 'sex', 'on_thyroxine', 'query_on_thyroxine',\n",
              "       'on_antithyroid_medication', 'thyroid_surgery', 'query_hypothyroid',\n",
              "       'query_hyperthyroid', 'pregnant', 'sick', 'tumor', 'lithium', 'goitre',\n",
              "       'TSH_measured', 'TSH', 'T3_measured', 'T3', 'TT4_measured', 'TT4',\n",
              "       'T4U_measured', 'T4U', 'FTI_measured', 'FTI', 'TBG_measured', 'TBG'],\n",
              "      dtype='object')"
            ]
          },
          "metadata": {
            "tags": []
          },
          "execution_count": 7
        }
      ]
    },
    {
      "cell_type": "code",
      "metadata": {
        "id": "FzrucZyWBQa2",
        "outputId": "700ad703-9fbe-4362-f929-e409b6ad9503",
        "colab": {
          "base_uri": "https://localhost:8080/",
          "height": 224
        }
      },
      "source": [
        "# replacing values \n",
        "df = df.replace({'?' : np.nan})\n",
        "df.tail()"
      ],
      "execution_count": 8,
      "outputs": [
        {
          "output_type": "execute_result",
          "data": {
            "text/html": [
              "<div>\n",
              "<style scoped>\n",
              "    .dataframe tbody tr th:only-of-type {\n",
              "        vertical-align: middle;\n",
              "    }\n",
              "\n",
              "    .dataframe tbody tr th {\n",
              "        vertical-align: top;\n",
              "    }\n",
              "\n",
              "    .dataframe thead th {\n",
              "        text-align: right;\n",
              "    }\n",
              "</style>\n",
              "<table border=\"1\" class=\"dataframe\">\n",
              "  <thead>\n",
              "    <tr style=\"text-align: right;\">\n",
              "      <th></th>\n",
              "      <th>status</th>\n",
              "      <th>age</th>\n",
              "      <th>sex</th>\n",
              "      <th>on_thyroxine</th>\n",
              "      <th>query_on_thyroxine</th>\n",
              "      <th>on_antithyroid_medication</th>\n",
              "      <th>thyroid_surgery</th>\n",
              "      <th>query_hypothyroid</th>\n",
              "      <th>query_hyperthyroid</th>\n",
              "      <th>pregnant</th>\n",
              "      <th>sick</th>\n",
              "      <th>tumor</th>\n",
              "      <th>lithium</th>\n",
              "      <th>goitre</th>\n",
              "      <th>TSH_measured</th>\n",
              "      <th>TSH</th>\n",
              "      <th>T3_measured</th>\n",
              "      <th>T3</th>\n",
              "      <th>TT4_measured</th>\n",
              "      <th>TT4</th>\n",
              "      <th>T4U_measured</th>\n",
              "      <th>T4U</th>\n",
              "      <th>FTI_measured</th>\n",
              "      <th>FTI</th>\n",
              "      <th>TBG_measured</th>\n",
              "      <th>TBG</th>\n",
              "    </tr>\n",
              "  </thead>\n",
              "  <tbody>\n",
              "    <tr>\n",
              "      <th>3158</th>\n",
              "      <td>negative</td>\n",
              "      <td>58</td>\n",
              "      <td>F</td>\n",
              "      <td>f</td>\n",
              "      <td>f</td>\n",
              "      <td>f</td>\n",
              "      <td>f</td>\n",
              "      <td>f</td>\n",
              "      <td>f</td>\n",
              "      <td>f</td>\n",
              "      <td>f</td>\n",
              "      <td>f</td>\n",
              "      <td>f</td>\n",
              "      <td>f</td>\n",
              "      <td>y</td>\n",
              "      <td>5.80</td>\n",
              "      <td>y</td>\n",
              "      <td>1.70</td>\n",
              "      <td>y</td>\n",
              "      <td>86</td>\n",
              "      <td>y</td>\n",
              "      <td>0.91</td>\n",
              "      <td>y</td>\n",
              "      <td>95</td>\n",
              "      <td>n</td>\n",
              "      <td>NaN</td>\n",
              "    </tr>\n",
              "    <tr>\n",
              "      <th>3159</th>\n",
              "      <td>negative</td>\n",
              "      <td>29</td>\n",
              "      <td>F</td>\n",
              "      <td>f</td>\n",
              "      <td>f</td>\n",
              "      <td>f</td>\n",
              "      <td>f</td>\n",
              "      <td>f</td>\n",
              "      <td>f</td>\n",
              "      <td>f</td>\n",
              "      <td>f</td>\n",
              "      <td>f</td>\n",
              "      <td>f</td>\n",
              "      <td>f</td>\n",
              "      <td>y</td>\n",
              "      <td>0.80</td>\n",
              "      <td>y</td>\n",
              "      <td>1.80</td>\n",
              "      <td>y</td>\n",
              "      <td>99</td>\n",
              "      <td>y</td>\n",
              "      <td>1.01</td>\n",
              "      <td>y</td>\n",
              "      <td>98</td>\n",
              "      <td>n</td>\n",
              "      <td>NaN</td>\n",
              "    </tr>\n",
              "    <tr>\n",
              "      <th>3160</th>\n",
              "      <td>negative</td>\n",
              "      <td>77</td>\n",
              "      <td>M</td>\n",
              "      <td>f</td>\n",
              "      <td>f</td>\n",
              "      <td>f</td>\n",
              "      <td>f</td>\n",
              "      <td>f</td>\n",
              "      <td>f</td>\n",
              "      <td>f</td>\n",
              "      <td>f</td>\n",
              "      <td>f</td>\n",
              "      <td>f</td>\n",
              "      <td>f</td>\n",
              "      <td>y</td>\n",
              "      <td>1.20</td>\n",
              "      <td>y</td>\n",
              "      <td>0.60</td>\n",
              "      <td>y</td>\n",
              "      <td>71</td>\n",
              "      <td>y</td>\n",
              "      <td>0.68</td>\n",
              "      <td>y</td>\n",
              "      <td>104</td>\n",
              "      <td>n</td>\n",
              "      <td>NaN</td>\n",
              "    </tr>\n",
              "    <tr>\n",
              "      <th>3161</th>\n",
              "      <td>negative</td>\n",
              "      <td>74</td>\n",
              "      <td>F</td>\n",
              "      <td>f</td>\n",
              "      <td>f</td>\n",
              "      <td>f</td>\n",
              "      <td>f</td>\n",
              "      <td>f</td>\n",
              "      <td>f</td>\n",
              "      <td>f</td>\n",
              "      <td>f</td>\n",
              "      <td>f</td>\n",
              "      <td>f</td>\n",
              "      <td>f</td>\n",
              "      <td>y</td>\n",
              "      <td>1.30</td>\n",
              "      <td>y</td>\n",
              "      <td>0.10</td>\n",
              "      <td>y</td>\n",
              "      <td>65</td>\n",
              "      <td>y</td>\n",
              "      <td>0.48</td>\n",
              "      <td>y</td>\n",
              "      <td>137</td>\n",
              "      <td>n</td>\n",
              "      <td>NaN</td>\n",
              "    </tr>\n",
              "    <tr>\n",
              "      <th>3162</th>\n",
              "      <td>negative</td>\n",
              "      <td>56</td>\n",
              "      <td>F</td>\n",
              "      <td>t</td>\n",
              "      <td>f</td>\n",
              "      <td>f</td>\n",
              "      <td>f</td>\n",
              "      <td>f</td>\n",
              "      <td>f</td>\n",
              "      <td>f</td>\n",
              "      <td>f</td>\n",
              "      <td>f</td>\n",
              "      <td>f</td>\n",
              "      <td>f</td>\n",
              "      <td>y</td>\n",
              "      <td>0</td>\n",
              "      <td>y</td>\n",
              "      <td>1.80</td>\n",
              "      <td>y</td>\n",
              "      <td>139</td>\n",
              "      <td>y</td>\n",
              "      <td>0.97</td>\n",
              "      <td>y</td>\n",
              "      <td>143</td>\n",
              "      <td>n</td>\n",
              "      <td>NaN</td>\n",
              "    </tr>\n",
              "  </tbody>\n",
              "</table>\n",
              "</div>"
            ],
            "text/plain": [
              "        status age sex on_thyroxine  ... FTI_measured  FTI TBG_measured  TBG\n",
              "3158  negative  58   F            f  ...            y   95            n  NaN\n",
              "3159  negative  29   F            f  ...            y   98            n  NaN\n",
              "3160  negative  77   M            f  ...            y  104            n  NaN\n",
              "3161  negative  74   F            f  ...            y  137            n  NaN\n",
              "3162  negative  56   F            t  ...            y  143            n  NaN\n",
              "\n",
              "[5 rows x 26 columns]"
            ]
          },
          "metadata": {
            "tags": []
          },
          "execution_count": 8
        }
      ]
    },
    {
      "cell_type": "code",
      "metadata": {
        "id": "GxxpaEu7E4JK"
      },
      "source": [
        "# replacing values and variables\n",
        "df = df.replace({'f' : 0, 't' : 1})\n",
        "df = df.replace({'n' : 0, 'y' : 1})"
      ],
      "execution_count": 9,
      "outputs": []
    },
    {
      "cell_type": "code",
      "metadata": {
        "id": "hI8GX0ZAM_Zd",
        "outputId": "5c221e42-0968-4c03-c82a-7afced3dedc4",
        "colab": {
          "base_uri": "https://localhost:8080/",
          "height": 476
        }
      },
      "source": [
        "# using apply method \n",
        "df[['age', 'TSH', 'T3', 'TT4', 'T4U', 'FTI', 'TBG' ]] =df[['age', 'TSH', 'T3', 'TT4', 'T4U', 'FTI', 'TBG' ]].apply(pd.to_numeric) \n",
        "print(df.dtypes) "
      ],
      "execution_count": 10,
      "outputs": [
        {
          "output_type": "stream",
          "text": [
            "status                        object\n",
            "age                          float64\n",
            "sex                           object\n",
            "on_thyroxine                   int64\n",
            "query_on_thyroxine             int64\n",
            "on_antithyroid_medication      int64\n",
            "thyroid_surgery                int64\n",
            "query_hypothyroid              int64\n",
            "query_hyperthyroid             int64\n",
            "pregnant                       int64\n",
            "sick                           int64\n",
            "tumor                          int64\n",
            "lithium                        int64\n",
            "goitre                         int64\n",
            "TSH_measured                   int64\n",
            "TSH                          float64\n",
            "T3_measured                    int64\n",
            "T3                           float64\n",
            "TT4_measured                   int64\n",
            "TT4                          float64\n",
            "T4U_measured                   int64\n",
            "T4U                          float64\n",
            "FTI_measured                   int64\n",
            "FTI                          float64\n",
            "TBG_measured                   int64\n",
            "TBG                          float64\n",
            "dtype: object\n"
          ],
          "name": "stdout"
        }
      ]
    },
    {
      "cell_type": "code",
      "metadata": {
        "id": "5PsRplPAIC2R",
        "outputId": "696d25e6-4f57-4afe-cfb4-4bb1b79e0dcc",
        "colab": {
          "base_uri": "https://localhost:8080/",
          "height": 317
        }
      },
      "source": [
        "df.sample(8)"
      ],
      "execution_count": 11,
      "outputs": [
        {
          "output_type": "execute_result",
          "data": {
            "text/html": [
              "<div>\n",
              "<style scoped>\n",
              "    .dataframe tbody tr th:only-of-type {\n",
              "        vertical-align: middle;\n",
              "    }\n",
              "\n",
              "    .dataframe tbody tr th {\n",
              "        vertical-align: top;\n",
              "    }\n",
              "\n",
              "    .dataframe thead th {\n",
              "        text-align: right;\n",
              "    }\n",
              "</style>\n",
              "<table border=\"1\" class=\"dataframe\">\n",
              "  <thead>\n",
              "    <tr style=\"text-align: right;\">\n",
              "      <th></th>\n",
              "      <th>status</th>\n",
              "      <th>age</th>\n",
              "      <th>sex</th>\n",
              "      <th>on_thyroxine</th>\n",
              "      <th>query_on_thyroxine</th>\n",
              "      <th>on_antithyroid_medication</th>\n",
              "      <th>thyroid_surgery</th>\n",
              "      <th>query_hypothyroid</th>\n",
              "      <th>query_hyperthyroid</th>\n",
              "      <th>pregnant</th>\n",
              "      <th>sick</th>\n",
              "      <th>tumor</th>\n",
              "      <th>lithium</th>\n",
              "      <th>goitre</th>\n",
              "      <th>TSH_measured</th>\n",
              "      <th>TSH</th>\n",
              "      <th>T3_measured</th>\n",
              "      <th>T3</th>\n",
              "      <th>TT4_measured</th>\n",
              "      <th>TT4</th>\n",
              "      <th>T4U_measured</th>\n",
              "      <th>T4U</th>\n",
              "      <th>FTI_measured</th>\n",
              "      <th>FTI</th>\n",
              "      <th>TBG_measured</th>\n",
              "      <th>TBG</th>\n",
              "    </tr>\n",
              "  </thead>\n",
              "  <tbody>\n",
              "    <tr>\n",
              "      <th>1789</th>\n",
              "      <td>negative</td>\n",
              "      <td>48.0</td>\n",
              "      <td>M</td>\n",
              "      <td>0</td>\n",
              "      <td>0</td>\n",
              "      <td>0</td>\n",
              "      <td>0</td>\n",
              "      <td>0</td>\n",
              "      <td>0</td>\n",
              "      <td>0</td>\n",
              "      <td>0</td>\n",
              "      <td>0</td>\n",
              "      <td>0</td>\n",
              "      <td>0</td>\n",
              "      <td>1</td>\n",
              "      <td>2.20</td>\n",
              "      <td>1</td>\n",
              "      <td>2.1</td>\n",
              "      <td>1</td>\n",
              "      <td>55.0</td>\n",
              "      <td>1</td>\n",
              "      <td>0.85</td>\n",
              "      <td>1</td>\n",
              "      <td>65.0</td>\n",
              "      <td>0</td>\n",
              "      <td>NaN</td>\n",
              "    </tr>\n",
              "    <tr>\n",
              "      <th>423</th>\n",
              "      <td>negative</td>\n",
              "      <td>18.0</td>\n",
              "      <td>M</td>\n",
              "      <td>1</td>\n",
              "      <td>0</td>\n",
              "      <td>0</td>\n",
              "      <td>0</td>\n",
              "      <td>1</td>\n",
              "      <td>0</td>\n",
              "      <td>0</td>\n",
              "      <td>0</td>\n",
              "      <td>0</td>\n",
              "      <td>0</td>\n",
              "      <td>0</td>\n",
              "      <td>1</td>\n",
              "      <td>2.50</td>\n",
              "      <td>1</td>\n",
              "      <td>2.7</td>\n",
              "      <td>1</td>\n",
              "      <td>131.0</td>\n",
              "      <td>1</td>\n",
              "      <td>0.89</td>\n",
              "      <td>1</td>\n",
              "      <td>149.0</td>\n",
              "      <td>0</td>\n",
              "      <td>NaN</td>\n",
              "    </tr>\n",
              "    <tr>\n",
              "      <th>2358</th>\n",
              "      <td>negative</td>\n",
              "      <td>34.0</td>\n",
              "      <td>F</td>\n",
              "      <td>0</td>\n",
              "      <td>0</td>\n",
              "      <td>0</td>\n",
              "      <td>0</td>\n",
              "      <td>0</td>\n",
              "      <td>1</td>\n",
              "      <td>1</td>\n",
              "      <td>0</td>\n",
              "      <td>0</td>\n",
              "      <td>0</td>\n",
              "      <td>0</td>\n",
              "      <td>1</td>\n",
              "      <td>0.04</td>\n",
              "      <td>1</td>\n",
              "      <td>2.9</td>\n",
              "      <td>1</td>\n",
              "      <td>144.0</td>\n",
              "      <td>1</td>\n",
              "      <td>1.58</td>\n",
              "      <td>1</td>\n",
              "      <td>91.0</td>\n",
              "      <td>0</td>\n",
              "      <td>NaN</td>\n",
              "    </tr>\n",
              "    <tr>\n",
              "      <th>2245</th>\n",
              "      <td>negative</td>\n",
              "      <td>NaN</td>\n",
              "      <td>NaN</td>\n",
              "      <td>0</td>\n",
              "      <td>0</td>\n",
              "      <td>0</td>\n",
              "      <td>0</td>\n",
              "      <td>0</td>\n",
              "      <td>0</td>\n",
              "      <td>0</td>\n",
              "      <td>0</td>\n",
              "      <td>0</td>\n",
              "      <td>0</td>\n",
              "      <td>0</td>\n",
              "      <td>1</td>\n",
              "      <td>2.20</td>\n",
              "      <td>1</td>\n",
              "      <td>1.5</td>\n",
              "      <td>1</td>\n",
              "      <td>97.0</td>\n",
              "      <td>1</td>\n",
              "      <td>1.02</td>\n",
              "      <td>1</td>\n",
              "      <td>95.0</td>\n",
              "      <td>0</td>\n",
              "      <td>NaN</td>\n",
              "    </tr>\n",
              "    <tr>\n",
              "      <th>1116</th>\n",
              "      <td>negative</td>\n",
              "      <td>71.0</td>\n",
              "      <td>F</td>\n",
              "      <td>0</td>\n",
              "      <td>0</td>\n",
              "      <td>0</td>\n",
              "      <td>0</td>\n",
              "      <td>0</td>\n",
              "      <td>0</td>\n",
              "      <td>0</td>\n",
              "      <td>0</td>\n",
              "      <td>0</td>\n",
              "      <td>0</td>\n",
              "      <td>0</td>\n",
              "      <td>1</td>\n",
              "      <td>2.60</td>\n",
              "      <td>1</td>\n",
              "      <td>1.0</td>\n",
              "      <td>1</td>\n",
              "      <td>87.0</td>\n",
              "      <td>1</td>\n",
              "      <td>0.89</td>\n",
              "      <td>1</td>\n",
              "      <td>97.0</td>\n",
              "      <td>0</td>\n",
              "      <td>NaN</td>\n",
              "    </tr>\n",
              "    <tr>\n",
              "      <th>2108</th>\n",
              "      <td>negative</td>\n",
              "      <td>64.0</td>\n",
              "      <td>F</td>\n",
              "      <td>0</td>\n",
              "      <td>0</td>\n",
              "      <td>0</td>\n",
              "      <td>0</td>\n",
              "      <td>0</td>\n",
              "      <td>0</td>\n",
              "      <td>0</td>\n",
              "      <td>0</td>\n",
              "      <td>0</td>\n",
              "      <td>0</td>\n",
              "      <td>0</td>\n",
              "      <td>1</td>\n",
              "      <td>0.90</td>\n",
              "      <td>1</td>\n",
              "      <td>2.5</td>\n",
              "      <td>1</td>\n",
              "      <td>123.0</td>\n",
              "      <td>1</td>\n",
              "      <td>1.16</td>\n",
              "      <td>1</td>\n",
              "      <td>107.0</td>\n",
              "      <td>0</td>\n",
              "      <td>NaN</td>\n",
              "    </tr>\n",
              "    <tr>\n",
              "      <th>3089</th>\n",
              "      <td>negative</td>\n",
              "      <td>68.0</td>\n",
              "      <td>F</td>\n",
              "      <td>0</td>\n",
              "      <td>0</td>\n",
              "      <td>0</td>\n",
              "      <td>0</td>\n",
              "      <td>0</td>\n",
              "      <td>0</td>\n",
              "      <td>0</td>\n",
              "      <td>0</td>\n",
              "      <td>0</td>\n",
              "      <td>0</td>\n",
              "      <td>0</td>\n",
              "      <td>0</td>\n",
              "      <td>NaN</td>\n",
              "      <td>0</td>\n",
              "      <td>NaN</td>\n",
              "      <td>1</td>\n",
              "      <td>87.0</td>\n",
              "      <td>1</td>\n",
              "      <td>0.85</td>\n",
              "      <td>1</td>\n",
              "      <td>102.0</td>\n",
              "      <td>0</td>\n",
              "      <td>NaN</td>\n",
              "    </tr>\n",
              "    <tr>\n",
              "      <th>863</th>\n",
              "      <td>negative</td>\n",
              "      <td>65.0</td>\n",
              "      <td>M</td>\n",
              "      <td>0</td>\n",
              "      <td>0</td>\n",
              "      <td>0</td>\n",
              "      <td>0</td>\n",
              "      <td>0</td>\n",
              "      <td>0</td>\n",
              "      <td>0</td>\n",
              "      <td>0</td>\n",
              "      <td>0</td>\n",
              "      <td>0</td>\n",
              "      <td>0</td>\n",
              "      <td>1</td>\n",
              "      <td>1.20</td>\n",
              "      <td>1</td>\n",
              "      <td>1.2</td>\n",
              "      <td>1</td>\n",
              "      <td>123.0</td>\n",
              "      <td>1</td>\n",
              "      <td>0.92</td>\n",
              "      <td>1</td>\n",
              "      <td>134.0</td>\n",
              "      <td>0</td>\n",
              "      <td>NaN</td>\n",
              "    </tr>\n",
              "  </tbody>\n",
              "</table>\n",
              "</div>"
            ],
            "text/plain": [
              "        status   age  sex  on_thyroxine  ...  FTI_measured    FTI  TBG_measured  TBG\n",
              "1789  negative  48.0    M             0  ...             1   65.0             0  NaN\n",
              "423   negative  18.0    M             1  ...             1  149.0             0  NaN\n",
              "2358  negative  34.0    F             0  ...             1   91.0             0  NaN\n",
              "2245  negative   NaN  NaN             0  ...             1   95.0             0  NaN\n",
              "1116  negative  71.0    F             0  ...             1   97.0             0  NaN\n",
              "2108  negative  64.0    F             0  ...             1  107.0             0  NaN\n",
              "3089  negative  68.0    F             0  ...             1  102.0             0  NaN\n",
              "863   negative  65.0    M             0  ...             1  134.0             0  NaN\n",
              "\n",
              "[8 rows x 26 columns]"
            ]
          },
          "metadata": {
            "tags": []
          },
          "execution_count": 11
        }
      ]
    },
    {
      "cell_type": "markdown",
      "metadata": {
        "id": "ONQ30G-iPJn8"
      },
      "source": [
        "### **Note:**"
      ]
    },
    {
      "cell_type": "code",
      "metadata": {
        "id": "wrY_ygXAL3Gs"
      },
      "source": [
        "## df.dropna()\n",
        "\n",
        "##droping null values does away with a good section of the dataset leaving a dataset that is dysfunctional and insignificant.\n",
        "# therefoore the null values in this dataset were not dropped"
      ],
      "execution_count": 12,
      "outputs": []
    },
    {
      "cell_type": "code",
      "metadata": {
        "id": "vM4lO36PFgCx",
        "outputId": "f5c3b02b-b3bb-43eb-f12c-db538f5fe9cc",
        "colab": {
          "base_uri": "https://localhost:8080/",
          "height": 476
        }
      },
      "source": [
        "# previewing the various datatypes for every column\n",
        "df.dtypes"
      ],
      "execution_count": 13,
      "outputs": [
        {
          "output_type": "execute_result",
          "data": {
            "text/plain": [
              "status                        object\n",
              "age                          float64\n",
              "sex                           object\n",
              "on_thyroxine                   int64\n",
              "query_on_thyroxine             int64\n",
              "on_antithyroid_medication      int64\n",
              "thyroid_surgery                int64\n",
              "query_hypothyroid              int64\n",
              "query_hyperthyroid             int64\n",
              "pregnant                       int64\n",
              "sick                           int64\n",
              "tumor                          int64\n",
              "lithium                        int64\n",
              "goitre                         int64\n",
              "TSH_measured                   int64\n",
              "TSH                          float64\n",
              "T3_measured                    int64\n",
              "T3                           float64\n",
              "TT4_measured                   int64\n",
              "TT4                          float64\n",
              "T4U_measured                   int64\n",
              "T4U                          float64\n",
              "FTI_measured                   int64\n",
              "FTI                          float64\n",
              "TBG_measured                   int64\n",
              "TBG                          float64\n",
              "dtype: object"
            ]
          },
          "metadata": {
            "tags": []
          },
          "execution_count": 13
        }
      ]
    },
    {
      "cell_type": "markdown",
      "metadata": {
        "id": "TgnXOwbybVk0"
      },
      "source": [
        "### **Data Cleaning**"
      ]
    },
    {
      "cell_type": "code",
      "metadata": {
        "id": "ngc4Q-6WC4R7",
        "outputId": "96460275-e6c6-48d3-e4ce-4d6368a684ec",
        "colab": {
          "base_uri": "https://localhost:8080/",
          "height": 85
        }
      },
      "source": [
        "# dropping unnecessary columns\n",
        "df1 = df.drop(['TSH_measured', 'TSH', 'T3_measured', 'T3', 'TT4_measured', 'TT4',\n",
        "       'T4U_measured', 'T4U', 'FTI_measured', 'FTI', 'TBG_measured', 'TBG'], axis = 1)\n",
        "df1.columns"
      ],
      "execution_count": 14,
      "outputs": [
        {
          "output_type": "execute_result",
          "data": {
            "text/plain": [
              "Index(['status', 'age', 'sex', 'on_thyroxine', 'query_on_thyroxine',\n",
              "       'on_antithyroid_medication', 'thyroid_surgery', 'query_hypothyroid',\n",
              "       'query_hyperthyroid', 'pregnant', 'sick', 'tumor', 'lithium', 'goitre'],\n",
              "      dtype='object')"
            ]
          },
          "metadata": {
            "tags": []
          },
          "execution_count": 14
        }
      ]
    },
    {
      "cell_type": "code",
      "metadata": {
        "id": "r1t5fMIBaC2G",
        "outputId": "fc8ee0e7-658c-456c-a634-87bff9dde5d8",
        "colab": {
          "base_uri": "https://localhost:8080/",
          "height": 272
        }
      },
      "source": [
        "# checking count of null values\n",
        "df1.isnull().sum()"
      ],
      "execution_count": 15,
      "outputs": [
        {
          "output_type": "execute_result",
          "data": {
            "text/plain": [
              "status                         0\n",
              "age                          446\n",
              "sex                           73\n",
              "on_thyroxine                   0\n",
              "query_on_thyroxine             0\n",
              "on_antithyroid_medication      0\n",
              "thyroid_surgery                0\n",
              "query_hypothyroid              0\n",
              "query_hyperthyroid             0\n",
              "pregnant                       0\n",
              "sick                           0\n",
              "tumor                          0\n",
              "lithium                        0\n",
              "goitre                         0\n",
              "dtype: int64"
            ]
          },
          "metadata": {
            "tags": []
          },
          "execution_count": 15
        }
      ]
    },
    {
      "cell_type": "code",
      "metadata": {
        "id": "c5EqMELkIzg0",
        "outputId": "04fd8157-c324-4462-94f5-a367bcdd2166",
        "colab": {
          "base_uri": "https://localhost:8080/",
          "height": 272
        }
      },
      "source": [
        "# checking the datatypes\n",
        "df1.dtypes"
      ],
      "execution_count": 16,
      "outputs": [
        {
          "output_type": "execute_result",
          "data": {
            "text/plain": [
              "status                        object\n",
              "age                          float64\n",
              "sex                           object\n",
              "on_thyroxine                   int64\n",
              "query_on_thyroxine             int64\n",
              "on_antithyroid_medication      int64\n",
              "thyroid_surgery                int64\n",
              "query_hypothyroid              int64\n",
              "query_hyperthyroid             int64\n",
              "pregnant                       int64\n",
              "sick                           int64\n",
              "tumor                          int64\n",
              "lithium                        int64\n",
              "goitre                         int64\n",
              "dtype: object"
            ]
          },
          "metadata": {
            "tags": []
          },
          "execution_count": 16
        }
      ]
    },
    {
      "cell_type": "code",
      "metadata": {
        "id": "_r7ib8yjP7dv",
        "outputId": "ded04022-28e2-4715-916e-fd8ef94fac2a",
        "colab": {
          "base_uri": "https://localhost:8080/",
          "height": 419
        }
      },
      "source": [
        "# filling the null values with zeros\n",
        "df1.fillna(0)"
      ],
      "execution_count": 17,
      "outputs": [
        {
          "output_type": "execute_result",
          "data": {
            "text/html": [
              "<div>\n",
              "<style scoped>\n",
              "    .dataframe tbody tr th:only-of-type {\n",
              "        vertical-align: middle;\n",
              "    }\n",
              "\n",
              "    .dataframe tbody tr th {\n",
              "        vertical-align: top;\n",
              "    }\n",
              "\n",
              "    .dataframe thead th {\n",
              "        text-align: right;\n",
              "    }\n",
              "</style>\n",
              "<table border=\"1\" class=\"dataframe\">\n",
              "  <thead>\n",
              "    <tr style=\"text-align: right;\">\n",
              "      <th></th>\n",
              "      <th>status</th>\n",
              "      <th>age</th>\n",
              "      <th>sex</th>\n",
              "      <th>on_thyroxine</th>\n",
              "      <th>query_on_thyroxine</th>\n",
              "      <th>on_antithyroid_medication</th>\n",
              "      <th>thyroid_surgery</th>\n",
              "      <th>query_hypothyroid</th>\n",
              "      <th>query_hyperthyroid</th>\n",
              "      <th>pregnant</th>\n",
              "      <th>sick</th>\n",
              "      <th>tumor</th>\n",
              "      <th>lithium</th>\n",
              "      <th>goitre</th>\n",
              "    </tr>\n",
              "  </thead>\n",
              "  <tbody>\n",
              "    <tr>\n",
              "      <th>0</th>\n",
              "      <td>hypothyroid</td>\n",
              "      <td>72.0</td>\n",
              "      <td>M</td>\n",
              "      <td>0</td>\n",
              "      <td>0</td>\n",
              "      <td>0</td>\n",
              "      <td>0</td>\n",
              "      <td>0</td>\n",
              "      <td>0</td>\n",
              "      <td>0</td>\n",
              "      <td>0</td>\n",
              "      <td>0</td>\n",
              "      <td>0</td>\n",
              "      <td>0</td>\n",
              "    </tr>\n",
              "    <tr>\n",
              "      <th>1</th>\n",
              "      <td>hypothyroid</td>\n",
              "      <td>15.0</td>\n",
              "      <td>F</td>\n",
              "      <td>1</td>\n",
              "      <td>0</td>\n",
              "      <td>0</td>\n",
              "      <td>0</td>\n",
              "      <td>0</td>\n",
              "      <td>0</td>\n",
              "      <td>0</td>\n",
              "      <td>0</td>\n",
              "      <td>0</td>\n",
              "      <td>0</td>\n",
              "      <td>0</td>\n",
              "    </tr>\n",
              "    <tr>\n",
              "      <th>2</th>\n",
              "      <td>hypothyroid</td>\n",
              "      <td>24.0</td>\n",
              "      <td>M</td>\n",
              "      <td>0</td>\n",
              "      <td>0</td>\n",
              "      <td>0</td>\n",
              "      <td>0</td>\n",
              "      <td>0</td>\n",
              "      <td>0</td>\n",
              "      <td>0</td>\n",
              "      <td>0</td>\n",
              "      <td>0</td>\n",
              "      <td>0</td>\n",
              "      <td>0</td>\n",
              "    </tr>\n",
              "    <tr>\n",
              "      <th>3</th>\n",
              "      <td>hypothyroid</td>\n",
              "      <td>24.0</td>\n",
              "      <td>F</td>\n",
              "      <td>0</td>\n",
              "      <td>0</td>\n",
              "      <td>0</td>\n",
              "      <td>0</td>\n",
              "      <td>0</td>\n",
              "      <td>0</td>\n",
              "      <td>0</td>\n",
              "      <td>0</td>\n",
              "      <td>0</td>\n",
              "      <td>0</td>\n",
              "      <td>0</td>\n",
              "    </tr>\n",
              "    <tr>\n",
              "      <th>4</th>\n",
              "      <td>hypothyroid</td>\n",
              "      <td>77.0</td>\n",
              "      <td>M</td>\n",
              "      <td>0</td>\n",
              "      <td>0</td>\n",
              "      <td>0</td>\n",
              "      <td>0</td>\n",
              "      <td>0</td>\n",
              "      <td>0</td>\n",
              "      <td>0</td>\n",
              "      <td>0</td>\n",
              "      <td>0</td>\n",
              "      <td>0</td>\n",
              "      <td>0</td>\n",
              "    </tr>\n",
              "    <tr>\n",
              "      <th>...</th>\n",
              "      <td>...</td>\n",
              "      <td>...</td>\n",
              "      <td>...</td>\n",
              "      <td>...</td>\n",
              "      <td>...</td>\n",
              "      <td>...</td>\n",
              "      <td>...</td>\n",
              "      <td>...</td>\n",
              "      <td>...</td>\n",
              "      <td>...</td>\n",
              "      <td>...</td>\n",
              "      <td>...</td>\n",
              "      <td>...</td>\n",
              "      <td>...</td>\n",
              "    </tr>\n",
              "    <tr>\n",
              "      <th>3158</th>\n",
              "      <td>negative</td>\n",
              "      <td>58.0</td>\n",
              "      <td>F</td>\n",
              "      <td>0</td>\n",
              "      <td>0</td>\n",
              "      <td>0</td>\n",
              "      <td>0</td>\n",
              "      <td>0</td>\n",
              "      <td>0</td>\n",
              "      <td>0</td>\n",
              "      <td>0</td>\n",
              "      <td>0</td>\n",
              "      <td>0</td>\n",
              "      <td>0</td>\n",
              "    </tr>\n",
              "    <tr>\n",
              "      <th>3159</th>\n",
              "      <td>negative</td>\n",
              "      <td>29.0</td>\n",
              "      <td>F</td>\n",
              "      <td>0</td>\n",
              "      <td>0</td>\n",
              "      <td>0</td>\n",
              "      <td>0</td>\n",
              "      <td>0</td>\n",
              "      <td>0</td>\n",
              "      <td>0</td>\n",
              "      <td>0</td>\n",
              "      <td>0</td>\n",
              "      <td>0</td>\n",
              "      <td>0</td>\n",
              "    </tr>\n",
              "    <tr>\n",
              "      <th>3160</th>\n",
              "      <td>negative</td>\n",
              "      <td>77.0</td>\n",
              "      <td>M</td>\n",
              "      <td>0</td>\n",
              "      <td>0</td>\n",
              "      <td>0</td>\n",
              "      <td>0</td>\n",
              "      <td>0</td>\n",
              "      <td>0</td>\n",
              "      <td>0</td>\n",
              "      <td>0</td>\n",
              "      <td>0</td>\n",
              "      <td>0</td>\n",
              "      <td>0</td>\n",
              "    </tr>\n",
              "    <tr>\n",
              "      <th>3161</th>\n",
              "      <td>negative</td>\n",
              "      <td>74.0</td>\n",
              "      <td>F</td>\n",
              "      <td>0</td>\n",
              "      <td>0</td>\n",
              "      <td>0</td>\n",
              "      <td>0</td>\n",
              "      <td>0</td>\n",
              "      <td>0</td>\n",
              "      <td>0</td>\n",
              "      <td>0</td>\n",
              "      <td>0</td>\n",
              "      <td>0</td>\n",
              "      <td>0</td>\n",
              "    </tr>\n",
              "    <tr>\n",
              "      <th>3162</th>\n",
              "      <td>negative</td>\n",
              "      <td>56.0</td>\n",
              "      <td>F</td>\n",
              "      <td>1</td>\n",
              "      <td>0</td>\n",
              "      <td>0</td>\n",
              "      <td>0</td>\n",
              "      <td>0</td>\n",
              "      <td>0</td>\n",
              "      <td>0</td>\n",
              "      <td>0</td>\n",
              "      <td>0</td>\n",
              "      <td>0</td>\n",
              "      <td>0</td>\n",
              "    </tr>\n",
              "  </tbody>\n",
              "</table>\n",
              "<p>3163 rows × 14 columns</p>\n",
              "</div>"
            ],
            "text/plain": [
              "           status   age sex  on_thyroxine  ...  sick  tumor  lithium  goitre\n",
              "0     hypothyroid  72.0   M             0  ...     0      0        0       0\n",
              "1     hypothyroid  15.0   F             1  ...     0      0        0       0\n",
              "2     hypothyroid  24.0   M             0  ...     0      0        0       0\n",
              "3     hypothyroid  24.0   F             0  ...     0      0        0       0\n",
              "4     hypothyroid  77.0   M             0  ...     0      0        0       0\n",
              "...           ...   ...  ..           ...  ...   ...    ...      ...     ...\n",
              "3158     negative  58.0   F             0  ...     0      0        0       0\n",
              "3159     negative  29.0   F             0  ...     0      0        0       0\n",
              "3160     negative  77.0   M             0  ...     0      0        0       0\n",
              "3161     negative  74.0   F             0  ...     0      0        0       0\n",
              "3162     negative  56.0   F             1  ...     0      0        0       0\n",
              "\n",
              "[3163 rows x 14 columns]"
            ]
          },
          "metadata": {
            "tags": []
          },
          "execution_count": 17
        }
      ]
    },
    {
      "cell_type": "code",
      "metadata": {
        "id": "ayk88SdeZgiq",
        "outputId": "46a96e61-6ec4-4df1-dc11-d1b9ff575ead",
        "colab": {
          "base_uri": "https://localhost:8080/",
          "height": 34
        }
      },
      "source": [
        "# checking for duplicates\n",
        "df1.duplicated().any()"
      ],
      "execution_count": 18,
      "outputs": [
        {
          "output_type": "execute_result",
          "data": {
            "text/plain": [
              "True"
            ]
          },
          "metadata": {
            "tags": []
          },
          "execution_count": 18
        }
      ]
    },
    {
      "cell_type": "code",
      "metadata": {
        "id": "AVLillrDZnGl"
      },
      "source": [
        "# dropping duplicates\n",
        "df1.drop_duplicates(inplace=True)"
      ],
      "execution_count": 19,
      "outputs": []
    },
    {
      "cell_type": "code",
      "metadata": {
        "id": "EX729vCBaSlI",
        "outputId": "363102de-7c56-4a66-aad7-b3c9273ee81d",
        "colab": {
          "base_uri": "https://localhost:8080/",
          "height": 34
        }
      },
      "source": [
        "# checking count of duplicate entries\n",
        "df1.duplicated().sum()"
      ],
      "execution_count": 20,
      "outputs": [
        {
          "output_type": "execute_result",
          "data": {
            "text/plain": [
              "0"
            ]
          },
          "metadata": {
            "tags": []
          },
          "execution_count": 20
        }
      ]
    },
    {
      "cell_type": "code",
      "metadata": {
        "id": "ZiUoOC1Da-Pm",
        "outputId": "00ca9fe3-7114-4e57-c110-c1727df11a90",
        "colab": {
          "base_uri": "https://localhost:8080/",
          "height": 34
        }
      },
      "source": [
        "# previewing the dataset\n",
        "df1.shape"
      ],
      "execution_count": 21,
      "outputs": [
        {
          "output_type": "execute_result",
          "data": {
            "text/plain": [
              "(914, 14)"
            ]
          },
          "metadata": {
            "tags": []
          },
          "execution_count": 21
        }
      ]
    },
    {
      "cell_type": "code",
      "metadata": {
        "id": "TFjjfmJxrf1u",
        "outputId": "e48e802c-c003-4ee8-b6cb-e8041cd46735",
        "colab": {
          "base_uri": "https://localhost:8080/",
          "height": 85
        }
      },
      "source": [
        "# previewing the columns\n",
        "df1.columns"
      ],
      "execution_count": 22,
      "outputs": [
        {
          "output_type": "execute_result",
          "data": {
            "text/plain": [
              "Index(['status', 'age', 'sex', 'on_thyroxine', 'query_on_thyroxine',\n",
              "       'on_antithyroid_medication', 'thyroid_surgery', 'query_hypothyroid',\n",
              "       'query_hyperthyroid', 'pregnant', 'sick', 'tumor', 'lithium', 'goitre'],\n",
              "      dtype='object')"
            ]
          },
          "metadata": {
            "tags": []
          },
          "execution_count": 22
        }
      ]
    },
    {
      "cell_type": "code",
      "metadata": {
        "id": "OUhVqsXDQt4h",
        "outputId": "c410ae2e-590e-4924-8edb-f35a6d7e28d3",
        "colab": {
          "base_uri": "https://localhost:8080/",
          "height": 317
        }
      },
      "source": [
        "# describing the numerical features\n",
        "df1.describe()"
      ],
      "execution_count": 23,
      "outputs": [
        {
          "output_type": "execute_result",
          "data": {
            "text/html": [
              "<div>\n",
              "<style scoped>\n",
              "    .dataframe tbody tr th:only-of-type {\n",
              "        vertical-align: middle;\n",
              "    }\n",
              "\n",
              "    .dataframe tbody tr th {\n",
              "        vertical-align: top;\n",
              "    }\n",
              "\n",
              "    .dataframe thead th {\n",
              "        text-align: right;\n",
              "    }\n",
              "</style>\n",
              "<table border=\"1\" class=\"dataframe\">\n",
              "  <thead>\n",
              "    <tr style=\"text-align: right;\">\n",
              "      <th></th>\n",
              "      <th>age</th>\n",
              "      <th>on_thyroxine</th>\n",
              "      <th>query_on_thyroxine</th>\n",
              "      <th>on_antithyroid_medication</th>\n",
              "      <th>thyroid_surgery</th>\n",
              "      <th>query_hypothyroid</th>\n",
              "      <th>query_hyperthyroid</th>\n",
              "      <th>pregnant</th>\n",
              "      <th>sick</th>\n",
              "      <th>tumor</th>\n",
              "      <th>lithium</th>\n",
              "      <th>goitre</th>\n",
              "    </tr>\n",
              "  </thead>\n",
              "  <tbody>\n",
              "    <tr>\n",
              "      <th>count</th>\n",
              "      <td>873.000000</td>\n",
              "      <td>914.000000</td>\n",
              "      <td>914.000000</td>\n",
              "      <td>914.000000</td>\n",
              "      <td>914.000000</td>\n",
              "      <td>914.000000</td>\n",
              "      <td>914.000000</td>\n",
              "      <td>914.000000</td>\n",
              "      <td>914.000000</td>\n",
              "      <td>914.000000</td>\n",
              "      <td>914.000000</td>\n",
              "      <td>914.000000</td>\n",
              "    </tr>\n",
              "    <tr>\n",
              "      <th>mean</th>\n",
              "      <td>48.325315</td>\n",
              "      <td>0.213348</td>\n",
              "      <td>0.049234</td>\n",
              "      <td>0.037199</td>\n",
              "      <td>0.094092</td>\n",
              "      <td>0.154267</td>\n",
              "      <td>0.160832</td>\n",
              "      <td>0.044858</td>\n",
              "      <td>0.074398</td>\n",
              "      <td>0.032823</td>\n",
              "      <td>0.002188</td>\n",
              "      <td>0.084245</td>\n",
              "    </tr>\n",
              "    <tr>\n",
              "      <th>std</th>\n",
              "      <td>20.374465</td>\n",
              "      <td>0.409896</td>\n",
              "      <td>0.216475</td>\n",
              "      <td>0.189353</td>\n",
              "      <td>0.292116</td>\n",
              "      <td>0.361402</td>\n",
              "      <td>0.367577</td>\n",
              "      <td>0.207105</td>\n",
              "      <td>0.262562</td>\n",
              "      <td>0.178270</td>\n",
              "      <td>0.046752</td>\n",
              "      <td>0.277907</td>\n",
              "    </tr>\n",
              "    <tr>\n",
              "      <th>min</th>\n",
              "      <td>1.000000</td>\n",
              "      <td>0.000000</td>\n",
              "      <td>0.000000</td>\n",
              "      <td>0.000000</td>\n",
              "      <td>0.000000</td>\n",
              "      <td>0.000000</td>\n",
              "      <td>0.000000</td>\n",
              "      <td>0.000000</td>\n",
              "      <td>0.000000</td>\n",
              "      <td>0.000000</td>\n",
              "      <td>0.000000</td>\n",
              "      <td>0.000000</td>\n",
              "    </tr>\n",
              "    <tr>\n",
              "      <th>25%</th>\n",
              "      <td>31.000000</td>\n",
              "      <td>0.000000</td>\n",
              "      <td>0.000000</td>\n",
              "      <td>0.000000</td>\n",
              "      <td>0.000000</td>\n",
              "      <td>0.000000</td>\n",
              "      <td>0.000000</td>\n",
              "      <td>0.000000</td>\n",
              "      <td>0.000000</td>\n",
              "      <td>0.000000</td>\n",
              "      <td>0.000000</td>\n",
              "      <td>0.000000</td>\n",
              "    </tr>\n",
              "    <tr>\n",
              "      <th>50%</th>\n",
              "      <td>49.000000</td>\n",
              "      <td>0.000000</td>\n",
              "      <td>0.000000</td>\n",
              "      <td>0.000000</td>\n",
              "      <td>0.000000</td>\n",
              "      <td>0.000000</td>\n",
              "      <td>0.000000</td>\n",
              "      <td>0.000000</td>\n",
              "      <td>0.000000</td>\n",
              "      <td>0.000000</td>\n",
              "      <td>0.000000</td>\n",
              "      <td>0.000000</td>\n",
              "    </tr>\n",
              "    <tr>\n",
              "      <th>75%</th>\n",
              "      <td>65.000000</td>\n",
              "      <td>0.000000</td>\n",
              "      <td>0.000000</td>\n",
              "      <td>0.000000</td>\n",
              "      <td>0.000000</td>\n",
              "      <td>0.000000</td>\n",
              "      <td>0.000000</td>\n",
              "      <td>0.000000</td>\n",
              "      <td>0.000000</td>\n",
              "      <td>0.000000</td>\n",
              "      <td>0.000000</td>\n",
              "      <td>0.000000</td>\n",
              "    </tr>\n",
              "    <tr>\n",
              "      <th>max</th>\n",
              "      <td>98.000000</td>\n",
              "      <td>1.000000</td>\n",
              "      <td>1.000000</td>\n",
              "      <td>1.000000</td>\n",
              "      <td>1.000000</td>\n",
              "      <td>1.000000</td>\n",
              "      <td>1.000000</td>\n",
              "      <td>1.000000</td>\n",
              "      <td>1.000000</td>\n",
              "      <td>1.000000</td>\n",
              "      <td>1.000000</td>\n",
              "      <td>1.000000</td>\n",
              "    </tr>\n",
              "  </tbody>\n",
              "</table>\n",
              "</div>"
            ],
            "text/plain": [
              "              age  on_thyroxine  ...     lithium      goitre\n",
              "count  873.000000    914.000000  ...  914.000000  914.000000\n",
              "mean    48.325315      0.213348  ...    0.002188    0.084245\n",
              "std     20.374465      0.409896  ...    0.046752    0.277907\n",
              "min      1.000000      0.000000  ...    0.000000    0.000000\n",
              "25%     31.000000      0.000000  ...    0.000000    0.000000\n",
              "50%     49.000000      0.000000  ...    0.000000    0.000000\n",
              "75%     65.000000      0.000000  ...    0.000000    0.000000\n",
              "max     98.000000      1.000000  ...    1.000000    1.000000\n",
              "\n",
              "[8 rows x 12 columns]"
            ]
          },
          "metadata": {
            "tags": []
          },
          "execution_count": 23
        }
      ]
    },
    {
      "cell_type": "code",
      "metadata": {
        "id": "IsqE00SxfUQ2",
        "outputId": "c8b0f765-d00b-4d15-958f-8ca8f677db8e",
        "colab": {
          "base_uri": "https://localhost:8080/",
          "height": 34
        }
      },
      "source": [
        "# checking for anomalies\n",
        "\n",
        "q11 = df1['on_thyroxine'].quantile(.25)\n",
        "q31 = df1['on_thyroxine'].quantile(.75)\n",
        "\n",
        "iqr11 = q31 - q11\n",
        "iqr11\n",
        "##\n",
        "q11, q31 = np.percentile(df1['on_thyroxine'], [25, 75]) \n",
        "\n",
        "iqr = q31 - q11\n",
        "\n",
        "l_bound = q11 - (1.5*iqr)\n",
        "u_bound = q31 + (1.5 * iqr)\n",
        "\n",
        "print(iqr11, iqr)"
      ],
      "execution_count": 24,
      "outputs": [
        {
          "output_type": "stream",
          "text": [
            "0.0 0.0\n"
          ],
          "name": "stdout"
        }
      ]
    },
    {
      "cell_type": "code",
      "metadata": {
        "id": "OrTAc8jjRSxL",
        "outputId": "cdf18a13-80ae-492d-e295-2cf5eacb5c89",
        "colab": {
          "base_uri": "https://localhost:8080/",
          "height": 85
        }
      },
      "source": [
        "# previewing the columns\n",
        "df1.columns"
      ],
      "execution_count": 25,
      "outputs": [
        {
          "output_type": "execute_result",
          "data": {
            "text/plain": [
              "Index(['status', 'age', 'sex', 'on_thyroxine', 'query_on_thyroxine',\n",
              "       'on_antithyroid_medication', 'thyroid_surgery', 'query_hypothyroid',\n",
              "       'query_hyperthyroid', 'pregnant', 'sick', 'tumor', 'lithium', 'goitre'],\n",
              "      dtype='object')"
            ]
          },
          "metadata": {
            "tags": []
          },
          "execution_count": 25
        }
      ]
    },
    {
      "cell_type": "code",
      "metadata": {
        "id": "_AgNzZkFSK7_",
        "outputId": "47d0eeb5-c137-4250-f301-da4ac461ecd6",
        "colab": {
          "base_uri": "https://localhost:8080/",
          "height": 272
        }
      },
      "source": [
        "# previewing the datatypes\n",
        "df1.dtypes"
      ],
      "execution_count": 26,
      "outputs": [
        {
          "output_type": "execute_result",
          "data": {
            "text/plain": [
              "status                        object\n",
              "age                          float64\n",
              "sex                           object\n",
              "on_thyroxine                   int64\n",
              "query_on_thyroxine             int64\n",
              "on_antithyroid_medication      int64\n",
              "thyroid_surgery                int64\n",
              "query_hypothyroid              int64\n",
              "query_hyperthyroid             int64\n",
              "pregnant                       int64\n",
              "sick                           int64\n",
              "tumor                          int64\n",
              "lithium                        int64\n",
              "goitre                         int64\n",
              "dtype: object"
            ]
          },
          "metadata": {
            "tags": []
          },
          "execution_count": 26
        }
      ]
    },
    {
      "cell_type": "code",
      "metadata": {
        "id": "4Pa5h1nkbicy",
        "outputId": "fdb7f3b9-db71-4329-a000-afbf347e589d",
        "colab": {
          "base_uri": "https://localhost:8080/",
          "height": 1000
        }
      },
      "source": [
        "# checking for outliers\n",
        "# saving the column names onto a dictionary\n",
        "columns_dict = {'goitre': 1, 'age': 2, 'on_thyroxine': 3, 'query_on_thyroxine': 4, 'on_antithyroid_medication': 5, 'thyroid_surgery': 6,\n",
        "       'query_hypothyroid': 7, 'query_hyperthyroid': 8, 'pregnant': 9, 'sick': 10, 'tumor': 11, 'lithium': 12}\n",
        "\n",
        "plt.figure(figsize=(20,30))\n",
        "\n",
        "# make a boxplot for each numerical column\n",
        "for variable,i in columns_dict.items():\n",
        "  plt.subplot(5,4,i)\n",
        "  plt.boxplot(df1[variable])\n",
        "  plt.title(variable)\n",
        "\n",
        "plt.show()"
      ],
      "execution_count": 27,
      "outputs": [
        {
          "output_type": "stream",
          "text": [
            "/usr/local/lib/python3.6/dist-packages/matplotlib/cbook/__init__.py:1239: RuntimeWarning: invalid value encountered in less_equal\n",
            "  wiskhi = x[x <= hival]\n",
            "/usr/local/lib/python3.6/dist-packages/matplotlib/cbook/__init__.py:1246: RuntimeWarning: invalid value encountered in greater_equal\n",
            "  wisklo = x[x >= loval]\n",
            "/usr/local/lib/python3.6/dist-packages/matplotlib/cbook/__init__.py:1254: RuntimeWarning: invalid value encountered in less\n",
            "  x[x < stats['whislo']],\n",
            "/usr/local/lib/python3.6/dist-packages/matplotlib/cbook/__init__.py:1255: RuntimeWarning: invalid value encountered in greater\n",
            "  x[x > stats['whishi']],\n"
          ],
          "name": "stderr"
        },
        {
          "output_type": "display_data",
          "data": {
            "image/png": "[encoded data removed]",
            "text/plain": [
              "<Figure size 1440x2160 with 12 Axes>"
            ]
          },
          "metadata": {
            "tags": [],
            "needs_background": "light"
          }
        }
      ]
    },
    {
      "cell_type": "code",
      "metadata": {
        "id": "rCfJQQixbsYY",
        "outputId": "c9af53a1-ed50-4d2e-c85b-36800f661b81",
        "colab": {
          "base_uri": "https://localhost:8080/",
          "height": 51
        }
      },
      "source": [
        "# dealing with the outliers using quantiles\n",
        "Q1 = df1.quantile(0.25)\n",
        "Q3 = df1.quantile(0.75)\n",
        "IQR = Q3 - Q1\n",
        "\n",
        "# Removing outliers based on the IQR range \n",
        "dfx = df1[~((df1 < (Q1 - 1.5 * IQR)) | (df1 > (Q3 + 1.5 * IQR))).any(axis=1)]\n",
        "\n",
        "# Printing the shape of our new dataset\n",
        "print(dfx.shape)\n",
        "\n",
        "# Printing the shape of our old dataset\n",
        "print(df1.shape)"
      ],
      "execution_count": 28,
      "outputs": [
        {
          "output_type": "stream",
          "text": [
            "(226, 14)\n",
            "(914, 14)\n"
          ],
          "name": "stdout"
        }
      ]
    },
    {
      "cell_type": "markdown",
      "metadata": {
        "id": "Y8vhK3S3Ex22"
      },
      "source": [
        "\n",
        "\n",
        "> Since removing the outliers has a graeat effect on the data, for the exploratory analysis, i will be using the initial dataset, the df1\n",
        "\n"
      ]
    },
    {
      "cell_type": "markdown",
      "metadata": {
        "id": "rOpN6rL2WOYG"
      },
      "source": [
        "# **EXPLORATORY DATA ANALYSIS**"
      ]
    },
    {
      "cell_type": "markdown",
      "metadata": {
        "id": "HGR6EmNRWZcP"
      },
      "source": [
        "## **a) Univariate Analysis**"
      ]
    },
    {
      "cell_type": "code",
      "metadata": {
        "id": "9tgPl2UEWYs_",
        "outputId": "4f5db8f1-f5cb-49b3-8694-e3d66facd302",
        "colab": {
          "base_uri": "https://localhost:8080/",
          "height": 1000
        }
      },
      "source": [
        "# Ploting the univariate summaries and recording our observations\n",
        "# plot histograms for all numeric columns\n",
        "# we use the dictionary we had earlier on saved\n",
        "plt.figure(figsize = (20,30))\n",
        "for variable,i in columns_dict.items():\n",
        "  \n",
        "  plt.subplot(5,4,i)\n",
        "  sns.distplot(df1[variable])\n",
        "  plt.title(variable)\n",
        "\n",
        "plt.show()\n",
        "\n",
        "# this shows the relationship between the variables"
      ],
      "execution_count": 29,
      "outputs": [
        {
          "output_type": "stream",
          "text": [
            "/usr/local/lib/python3.6/dist-packages/seaborn/distributions.py:2551: FutureWarning: `distplot` is a deprecated function and will be removed in a future version. Please adapt your code to use either `displot` (a figure-level function with similar flexibility) or `histplot` (an axes-level function for histograms).\n",
            "  warnings.warn(msg, FutureWarning)\n",
            "/usr/local/lib/python3.6/dist-packages/seaborn/distributions.py:2551: FutureWarning: `distplot` is a deprecated function and will be removed in a future version. Please adapt your code to use either `displot` (a figure-level function with similar flexibility) or `histplot` (an axes-level function for histograms).\n",
            "  warnings.warn(msg, FutureWarning)\n",
            "/usr/local/lib/python3.6/dist-packages/seaborn/distributions.py:2551: FutureWarning: `distplot` is a deprecated function and will be removed in a future version. Please adapt your code to use either `displot` (a figure-level function with similar flexibility) or `histplot` (an axes-level function for histograms).\n",
            "  warnings.warn(msg, FutureWarning)\n",
            "/usr/local/lib/python3.6/dist-packages/seaborn/distributions.py:2551: FutureWarning: `distplot` is a deprecated function and will be removed in a future version. Please adapt your code to use either `displot` (a figure-level function with similar flexibility) or `histplot` (an axes-level function for histograms).\n",
            "  warnings.warn(msg, FutureWarning)\n",
            "/usr/local/lib/python3.6/dist-packages/seaborn/distributions.py:2551: FutureWarning: `distplot` is a deprecated function and will be removed in a future version. Please adapt your code to use either `displot` (a figure-level function with similar flexibility) or `histplot` (an axes-level function for histograms).\n",
            "  warnings.warn(msg, FutureWarning)\n",
            "/usr/local/lib/python3.6/dist-packages/seaborn/distributions.py:2551: FutureWarning: `distplot` is a deprecated function and will be removed in a future version. Please adapt your code to use either `displot` (a figure-level function with similar flexibility) or `histplot` (an axes-level function for histograms).\n",
            "  warnings.warn(msg, FutureWarning)\n",
            "/usr/local/lib/python3.6/dist-packages/seaborn/distributions.py:2551: FutureWarning: `distplot` is a deprecated function and will be removed in a future version. Please adapt your code to use either `displot` (a figure-level function with similar flexibility) or `histplot` (an axes-level function for histograms).\n",
            "  warnings.warn(msg, FutureWarning)\n",
            "/usr/local/lib/python3.6/dist-packages/seaborn/distributions.py:2551: FutureWarning: `distplot` is a deprecated function and will be removed in a future version. Please adapt your code to use either `displot` (a figure-level function with similar flexibility) or `histplot` (an axes-level function for histograms).\n",
            "  warnings.warn(msg, FutureWarning)\n",
            "/usr/local/lib/python3.6/dist-packages/seaborn/distributions.py:2551: FutureWarning: `distplot` is a deprecated function and will be removed in a future version. Please adapt your code to use either `displot` (a figure-level function with similar flexibility) or `histplot` (an axes-level function for histograms).\n",
            "  warnings.warn(msg, FutureWarning)\n",
            "/usr/local/lib/python3.6/dist-packages/seaborn/distributions.py:2551: FutureWarning: `distplot` is a deprecated function and will be removed in a future version. Please adapt your code to use either `displot` (a figure-level function with similar flexibility) or `histplot` (an axes-level function for histograms).\n",
            "  warnings.warn(msg, FutureWarning)\n",
            "/usr/local/lib/python3.6/dist-packages/seaborn/distributions.py:2551: FutureWarning: `distplot` is a deprecated function and will be removed in a future version. Please adapt your code to use either `displot` (a figure-level function with similar flexibility) or `histplot` (an axes-level function for histograms).\n",
            "  warnings.warn(msg, FutureWarning)\n",
            "/usr/local/lib/python3.6/dist-packages/seaborn/distributions.py:2551: FutureWarning: `distplot` is a deprecated function and will be removed in a future version. Please adapt your code to use either `displot` (a figure-level function with similar flexibility) or `histplot` (an axes-level function for histograms).\n",
            "  warnings.warn(msg, FutureWarning)\n"
          ],
          "name": "stderr"
        },
        {
          "output_type": "display_data",
          "data": {
            "image/png": "[encoded data removed]",
            "text/plain": [
              "<Figure size 1440x2160 with 12 Axes>"
            ]
          },
          "metadata": {
            "tags": [],
            "needs_background": "light"
          }
        }
      ]
    },
    {
      "cell_type": "code",
      "metadata": {
        "id": "0lmPzC2XcG1q",
        "outputId": "5f49e319-9972-4397-9af1-eb301e7d724a",
        "colab": {
          "base_uri": "https://localhost:8080/",
          "height": 317
        }
      },
      "source": [
        "# describing the statistical features of the data\n",
        "df1.describe()"
      ],
      "execution_count": 30,
      "outputs": [
        {
          "output_type": "execute_result",
          "data": {
            "text/html": [
              "<div>\n",
              "<style scoped>\n",
              "    .dataframe tbody tr th:only-of-type {\n",
              "        vertical-align: middle;\n",
              "    }\n",
              "\n",
              "    .dataframe tbody tr th {\n",
              "        vertical-align: top;\n",
              "    }\n",
              "\n",
              "    .dataframe thead th {\n",
              "        text-align: right;\n",
              "    }\n",
              "</style>\n",
              "<table border=\"1\" class=\"dataframe\">\n",
              "  <thead>\n",
              "    <tr style=\"text-align: right;\">\n",
              "      <th></th>\n",
              "      <th>age</th>\n",
              "      <th>on_thyroxine</th>\n",
              "      <th>query_on_thyroxine</th>\n",
              "      <th>on_antithyroid_medication</th>\n",
              "      <th>thyroid_surgery</th>\n",
              "      <th>query_hypothyroid</th>\n",
              "      <th>query_hyperthyroid</th>\n",
              "      <th>pregnant</th>\n",
              "      <th>sick</th>\n",
              "      <th>tumor</th>\n",
              "      <th>lithium</th>\n",
              "      <th>goitre</th>\n",
              "    </tr>\n",
              "  </thead>\n",
              "  <tbody>\n",
              "    <tr>\n",
              "      <th>count</th>\n",
              "      <td>873.000000</td>\n",
              "      <td>914.000000</td>\n",
              "      <td>914.000000</td>\n",
              "      <td>914.000000</td>\n",
              "      <td>914.000000</td>\n",
              "      <td>914.000000</td>\n",
              "      <td>914.000000</td>\n",
              "      <td>914.000000</td>\n",
              "      <td>914.000000</td>\n",
              "      <td>914.000000</td>\n",
              "      <td>914.000000</td>\n",
              "      <td>914.000000</td>\n",
              "    </tr>\n",
              "    <tr>\n",
              "      <th>mean</th>\n",
              "      <td>48.325315</td>\n",
              "      <td>0.213348</td>\n",
              "      <td>0.049234</td>\n",
              "      <td>0.037199</td>\n",
              "      <td>0.094092</td>\n",
              "      <td>0.154267</td>\n",
              "      <td>0.160832</td>\n",
              "      <td>0.044858</td>\n",
              "      <td>0.074398</td>\n",
              "      <td>0.032823</td>\n",
              "      <td>0.002188</td>\n",
              "      <td>0.084245</td>\n",
              "    </tr>\n",
              "    <tr>\n",
              "      <th>std</th>\n",
              "      <td>20.374465</td>\n",
              "      <td>0.409896</td>\n",
              "      <td>0.216475</td>\n",
              "      <td>0.189353</td>\n",
              "      <td>0.292116</td>\n",
              "      <td>0.361402</td>\n",
              "      <td>0.367577</td>\n",
              "      <td>0.207105</td>\n",
              "      <td>0.262562</td>\n",
              "      <td>0.178270</td>\n",
              "      <td>0.046752</td>\n",
              "      <td>0.277907</td>\n",
              "    </tr>\n",
              "    <tr>\n",
              "      <th>min</th>\n",
              "      <td>1.000000</td>\n",
              "      <td>0.000000</td>\n",
              "      <td>0.000000</td>\n",
              "      <td>0.000000</td>\n",
              "      <td>0.000000</td>\n",
              "      <td>0.000000</td>\n",
              "      <td>0.000000</td>\n",
              "      <td>0.000000</td>\n",
              "      <td>0.000000</td>\n",
              "      <td>0.000000</td>\n",
              "      <td>0.000000</td>\n",
              "      <td>0.000000</td>\n",
              "    </tr>\n",
              "    <tr>\n",
              "      <th>25%</th>\n",
              "      <td>31.000000</td>\n",
              "      <td>0.000000</td>\n",
              "      <td>0.000000</td>\n",
              "      <td>0.000000</td>\n",
              "      <td>0.000000</td>\n",
              "      <td>0.000000</td>\n",
              "      <td>0.000000</td>\n",
              "      <td>0.000000</td>\n",
              "      <td>0.000000</td>\n",
              "      <td>0.000000</td>\n",
              "      <td>0.000000</td>\n",
              "      <td>0.000000</td>\n",
              "    </tr>\n",
              "    <tr>\n",
              "      <th>50%</th>\n",
              "      <td>49.000000</td>\n",
              "      <td>0.000000</td>\n",
              "      <td>0.000000</td>\n",
              "      <td>0.000000</td>\n",
              "      <td>0.000000</td>\n",
              "      <td>0.000000</td>\n",
              "      <td>0.000000</td>\n",
              "      <td>0.000000</td>\n",
              "      <td>0.000000</td>\n",
              "      <td>0.000000</td>\n",
              "      <td>0.000000</td>\n",
              "      <td>0.000000</td>\n",
              "    </tr>\n",
              "    <tr>\n",
              "      <th>75%</th>\n",
              "      <td>65.000000</td>\n",
              "      <td>0.000000</td>\n",
              "      <td>0.000000</td>\n",
              "      <td>0.000000</td>\n",
              "      <td>0.000000</td>\n",
              "      <td>0.000000</td>\n",
              "      <td>0.000000</td>\n",
              "      <td>0.000000</td>\n",
              "      <td>0.000000</td>\n",
              "      <td>0.000000</td>\n",
              "      <td>0.000000</td>\n",
              "      <td>0.000000</td>\n",
              "    </tr>\n",
              "    <tr>\n",
              "      <th>max</th>\n",
              "      <td>98.000000</td>\n",
              "      <td>1.000000</td>\n",
              "      <td>1.000000</td>\n",
              "      <td>1.000000</td>\n",
              "      <td>1.000000</td>\n",
              "      <td>1.000000</td>\n",
              "      <td>1.000000</td>\n",
              "      <td>1.000000</td>\n",
              "      <td>1.000000</td>\n",
              "      <td>1.000000</td>\n",
              "      <td>1.000000</td>\n",
              "      <td>1.000000</td>\n",
              "    </tr>\n",
              "  </tbody>\n",
              "</table>\n",
              "</div>"
            ],
            "text/plain": [
              "              age  on_thyroxine  ...     lithium      goitre\n",
              "count  873.000000    914.000000  ...  914.000000  914.000000\n",
              "mean    48.325315      0.213348  ...    0.002188    0.084245\n",
              "std     20.374465      0.409896  ...    0.046752    0.277907\n",
              "min      1.000000      0.000000  ...    0.000000    0.000000\n",
              "25%     31.000000      0.000000  ...    0.000000    0.000000\n",
              "50%     49.000000      0.000000  ...    0.000000    0.000000\n",
              "75%     65.000000      0.000000  ...    0.000000    0.000000\n",
              "max     98.000000      1.000000  ...    1.000000    1.000000\n",
              "\n",
              "[8 rows x 12 columns]"
            ]
          },
          "metadata": {
            "tags": []
          },
          "execution_count": 30
        }
      ]
    },
    {
      "cell_type": "markdown",
      "metadata": {
        "id": "Zba3GzgHWjFt"
      },
      "source": [
        "## **b) Bivariate Analysis**"
      ]
    },
    {
      "cell_type": "code",
      "metadata": {
        "id": "sHMH1sW8cX2C",
        "outputId": "d32a712b-a189-4ff2-dcfc-8b6466d9db72",
        "colab": {
          "base_uri": "https://localhost:8080/",
          "height": 1000
        }
      },
      "source": [
        "# Ploting the bivariate summaries and recording our observations\n",
        "# scatterplot\n",
        "sns.pairplot(df1)\n",
        "plt.show()"
      ],
      "execution_count": 31,
      "outputs": [
        {
          "output_type": "display_data",
          "data": {
            "image/png": "[encoded data removed]",
            "text/plain": [
              "<Figure size 2160x2160 with 156 Axes>"
            ]
          },
          "metadata": {
            "tags": [],
            "needs_background": "light"
          }
        }
      ]
    },
    {
      "cell_type": "code",
      "metadata": {
        "id": "EFGvlrxKWmf4",
        "outputId": "35060a60-27c8-4fff-eab8-0897a1a1b921",
        "colab": {
          "base_uri": "https://localhost:8080/",
          "height": 945
        }
      },
      "source": [
        "### Categoric Feature Analysis\n",
        "# Boxplot gives a good idea about how the age is distributed across the categories.\n",
        "# Distribution charts show how well each category is populated.\n",
        "c = 0\n",
        "len_c = 3 # (len(df1.columns)-2)\n",
        "fig, axes = plt.subplots(len_c, 2, figsize=(10, 13))     # fig height = 70 -> in figsize(width,height)\n",
        "for i, ax in enumerate(fig.axes):\n",
        "    if (c < len_c) & (i % 2 == 0):\n",
        "        ax.set_xticklabels(ax.xaxis.get_majorticklabels(), rotation=45)\n",
        "        sns.countplot(x=df1.columns[c], alpha=0.7, data=df1, ax=ax)\n",
        "\n",
        "    if (c < len_c) & (i % 2 != 0):\n",
        "        ax.set_xticklabels(ax.xaxis.get_majorticklabels(), rotation=45)\n",
        "        sns.boxplot(data = df1, x=df1.columns[c], y='age', ax=ax)\n",
        "        c = c + 1\n",
        "fig.tight_layout()"
      ],
      "execution_count": 32,
      "outputs": [
        {
          "output_type": "display_data",
          "data": {
            "image/png": "[encoded data removed]",
            "text/plain": [
              "<Figure size 720x936 with 6 Axes>"
            ]
          },
          "metadata": {
            "tags": [],
            "needs_background": "light"
          }
        }
      ]
    },
    {
      "cell_type": "code",
      "metadata": {
        "id": "sZNIdh1cf9S-",
        "outputId": "6973be6f-6fef-4474-df16-06bce157c8a1",
        "colab": {
          "base_uri": "https://localhost:8080/",
          "height": 392
        }
      },
      "source": [
        "# plotting the correlation using a heatmap\n",
        "sns.heatmap(df1.corr(),annot=True)\n",
        "plt.show()"
      ],
      "execution_count": 33,
      "outputs": [
        {
          "output_type": "display_data",
          "data": {
            "image/png": "[encoded data removed]",
            "text/plain": [
              "<Figure size 432x288 with 2 Axes>"
            ]
          },
          "metadata": {
            "tags": [],
            "needs_background": "light"
          }
        }
      ]
    },
    {
      "cell_type": "code",
      "metadata": {
        "id": "r9spYPXdccxS",
        "outputId": "d7dc619e-0c99-478b-d4a7-72954dc63d5a",
        "colab": {
          "base_uri": "https://localhost:8080/",
          "height": 441
        }
      },
      "source": [
        "# tabulating the correlation coefficients\n",
        "corr = df1.corr()\n",
        "corr"
      ],
      "execution_count": 34,
      "outputs": [
        {
          "output_type": "execute_result",
          "data": {
            "text/html": [
              "<div>\n",
              "<style scoped>\n",
              "    .dataframe tbody tr th:only-of-type {\n",
              "        vertical-align: middle;\n",
              "    }\n",
              "\n",
              "    .dataframe tbody tr th {\n",
              "        vertical-align: top;\n",
              "    }\n",
              "\n",
              "    .dataframe thead th {\n",
              "        text-align: right;\n",
              "    }\n",
              "</style>\n",
              "<table border=\"1\" class=\"dataframe\">\n",
              "  <thead>\n",
              "    <tr style=\"text-align: right;\">\n",
              "      <th></th>\n",
              "      <th>age</th>\n",
              "      <th>on_thyroxine</th>\n",
              "      <th>query_on_thyroxine</th>\n",
              "      <th>on_antithyroid_medication</th>\n",
              "      <th>thyroid_surgery</th>\n",
              "      <th>query_hypothyroid</th>\n",
              "      <th>query_hyperthyroid</th>\n",
              "      <th>pregnant</th>\n",
              "      <th>sick</th>\n",
              "      <th>tumor</th>\n",
              "      <th>lithium</th>\n",
              "      <th>goitre</th>\n",
              "    </tr>\n",
              "  </thead>\n",
              "  <tbody>\n",
              "    <tr>\n",
              "      <th>age</th>\n",
              "      <td>1.000000</td>\n",
              "      <td>-0.012807</td>\n",
              "      <td>-0.002483</td>\n",
              "      <td>-0.090608</td>\n",
              "      <td>0.012864</td>\n",
              "      <td>0.052702</td>\n",
              "      <td>-0.050616</td>\n",
              "      <td>-0.199151</td>\n",
              "      <td>0.108849</td>\n",
              "      <td>-0.053991</td>\n",
              "      <td>-0.029005</td>\n",
              "      <td>-0.022302</td>\n",
              "    </tr>\n",
              "    <tr>\n",
              "      <th>on_thyroxine</th>\n",
              "      <td>-0.012807</td>\n",
              "      <td>1.000000</td>\n",
              "      <td>-0.056790</td>\n",
              "      <td>-0.060029</td>\n",
              "      <td>0.015112</td>\n",
              "      <td>0.088118</td>\n",
              "      <td>-0.162563</td>\n",
              "      <td>-0.022544</td>\n",
              "      <td>-0.127292</td>\n",
              "      <td>-0.065959</td>\n",
              "      <td>-0.024388</td>\n",
              "      <td>-0.071419</td>\n",
              "    </tr>\n",
              "    <tr>\n",
              "      <th>query_on_thyroxine</th>\n",
              "      <td>-0.002483</td>\n",
              "      <td>-0.056790</td>\n",
              "      <td>1.000000</td>\n",
              "      <td>-0.044730</td>\n",
              "      <td>-0.021376</td>\n",
              "      <td>-0.069189</td>\n",
              "      <td>-0.099622</td>\n",
              "      <td>-0.049315</td>\n",
              "      <td>-0.064516</td>\n",
              "      <td>0.043225</td>\n",
              "      <td>-0.010656</td>\n",
              "      <td>-0.032608</td>\n",
              "    </tr>\n",
              "    <tr>\n",
              "      <th>on_antithyroid_medication</th>\n",
              "      <td>-0.090608</td>\n",
              "      <td>-0.060029</td>\n",
              "      <td>-0.044730</td>\n",
              "      <td>1.000000</td>\n",
              "      <td>-0.043546</td>\n",
              "      <td>-0.083949</td>\n",
              "      <td>0.102787</td>\n",
              "      <td>-0.014668</td>\n",
              "      <td>-0.055727</td>\n",
              "      <td>-0.036210</td>\n",
              "      <td>-0.009205</td>\n",
              "      <td>-0.059618</td>\n",
              "    </tr>\n",
              "    <tr>\n",
              "      <th>thyroid_surgery</th>\n",
              "      <td>0.012864</td>\n",
              "      <td>0.015112</td>\n",
              "      <td>-0.021376</td>\n",
              "      <td>-0.043546</td>\n",
              "      <td>1.000000</td>\n",
              "      <td>-0.054644</td>\n",
              "      <td>-0.039084</td>\n",
              "      <td>-0.051738</td>\n",
              "      <td>-0.091370</td>\n",
              "      <td>-0.059370</td>\n",
              "      <td>-0.015092</td>\n",
              "      <td>-0.084258</td>\n",
              "    </tr>\n",
              "    <tr>\n",
              "      <th>query_hypothyroid</th>\n",
              "      <td>0.052702</td>\n",
              "      <td>0.088118</td>\n",
              "      <td>-0.069189</td>\n",
              "      <td>-0.083949</td>\n",
              "      <td>-0.054644</td>\n",
              "      <td>1.000000</td>\n",
              "      <td>-0.088034</td>\n",
              "      <td>-0.048656</td>\n",
              "      <td>-0.121085</td>\n",
              "      <td>-0.078678</td>\n",
              "      <td>0.044823</td>\n",
              "      <td>-0.085918</td>\n",
              "    </tr>\n",
              "    <tr>\n",
              "      <th>query_hyperthyroid</th>\n",
              "      <td>-0.050616</td>\n",
              "      <td>-0.162563</td>\n",
              "      <td>-0.099622</td>\n",
              "      <td>0.102787</td>\n",
              "      <td>-0.039084</td>\n",
              "      <td>-0.088034</td>\n",
              "      <td>1.000000</td>\n",
              "      <td>0.034615</td>\n",
              "      <td>-0.124117</td>\n",
              "      <td>-0.080648</td>\n",
              "      <td>-0.020501</td>\n",
              "      <td>0.006605</td>\n",
              "    </tr>\n",
              "    <tr>\n",
              "      <th>pregnant</th>\n",
              "      <td>-0.199151</td>\n",
              "      <td>-0.022544</td>\n",
              "      <td>-0.049315</td>\n",
              "      <td>-0.014668</td>\n",
              "      <td>-0.051738</td>\n",
              "      <td>-0.048656</td>\n",
              "      <td>0.034615</td>\n",
              "      <td>1.000000</td>\n",
              "      <td>-0.061440</td>\n",
              "      <td>-0.010257</td>\n",
              "      <td>-0.010149</td>\n",
              "      <td>0.067480</td>\n",
              "    </tr>\n",
              "    <tr>\n",
              "      <th>sick</th>\n",
              "      <td>0.108849</td>\n",
              "      <td>-0.127292</td>\n",
              "      <td>-0.064516</td>\n",
              "      <td>-0.055727</td>\n",
              "      <td>-0.091370</td>\n",
              "      <td>-0.121085</td>\n",
              "      <td>-0.124117</td>\n",
              "      <td>-0.061440</td>\n",
              "      <td>1.000000</td>\n",
              "      <td>-0.052228</td>\n",
              "      <td>-0.013277</td>\n",
              "      <td>-0.085991</td>\n",
              "    </tr>\n",
              "    <tr>\n",
              "      <th>tumor</th>\n",
              "      <td>-0.053991</td>\n",
              "      <td>-0.065959</td>\n",
              "      <td>0.043225</td>\n",
              "      <td>-0.036210</td>\n",
              "      <td>-0.059370</td>\n",
              "      <td>-0.078678</td>\n",
              "      <td>-0.080648</td>\n",
              "      <td>-0.010257</td>\n",
              "      <td>-0.052228</td>\n",
              "      <td>1.000000</td>\n",
              "      <td>-0.008627</td>\n",
              "      <td>-0.055875</td>\n",
              "    </tr>\n",
              "    <tr>\n",
              "      <th>lithium</th>\n",
              "      <td>-0.029005</td>\n",
              "      <td>-0.024388</td>\n",
              "      <td>-0.010656</td>\n",
              "      <td>-0.009205</td>\n",
              "      <td>-0.015092</td>\n",
              "      <td>0.044823</td>\n",
              "      <td>-0.020501</td>\n",
              "      <td>-0.010149</td>\n",
              "      <td>-0.013277</td>\n",
              "      <td>-0.008627</td>\n",
              "      <td>1.000000</td>\n",
              "      <td>-0.014204</td>\n",
              "    </tr>\n",
              "    <tr>\n",
              "      <th>goitre</th>\n",
              "      <td>-0.022302</td>\n",
              "      <td>-0.071419</td>\n",
              "      <td>-0.032608</td>\n",
              "      <td>-0.059618</td>\n",
              "      <td>-0.084258</td>\n",
              "      <td>-0.085918</td>\n",
              "      <td>0.006605</td>\n",
              "      <td>0.067480</td>\n",
              "      <td>-0.085991</td>\n",
              "      <td>-0.055875</td>\n",
              "      <td>-0.014204</td>\n",
              "      <td>1.000000</td>\n",
              "    </tr>\n",
              "  </tbody>\n",
              "</table>\n",
              "</div>"
            ],
            "text/plain": [
              "                                age  on_thyroxine  ...   lithium    goitre\n",
              "age                        1.000000     -0.012807  ... -0.029005 -0.022302\n",
              "on_thyroxine              -0.012807      1.000000  ... -0.024388 -0.071419\n",
              "query_on_thyroxine        -0.002483     -0.056790  ... -0.010656 -0.032608\n",
              "on_antithyroid_medication -0.090608     -0.060029  ... -0.009205 -0.059618\n",
              "thyroid_surgery            0.012864      0.015112  ... -0.015092 -0.084258\n",
              "query_hypothyroid          0.052702      0.088118  ...  0.044823 -0.085918\n",
              "query_hyperthyroid        -0.050616     -0.162563  ... -0.020501  0.006605\n",
              "pregnant                  -0.199151     -0.022544  ... -0.010149  0.067480\n",
              "sick                       0.108849     -0.127292  ... -0.013277 -0.085991\n",
              "tumor                     -0.053991     -0.065959  ... -0.008627 -0.055875\n",
              "lithium                   -0.029005     -0.024388  ...  1.000000 -0.014204\n",
              "goitre                    -0.022302     -0.071419  ... -0.014204  1.000000\n",
              "\n",
              "[12 rows x 12 columns]"
            ]
          },
          "metadata": {
            "tags": []
          },
          "execution_count": 34
        }
      ]
    },
    {
      "cell_type": "markdown",
      "metadata": {
        "id": "5-pqIHEeWnAP"
      },
      "source": [
        "## **c) Multivariate Analysis**"
      ]
    },
    {
      "cell_type": "markdown",
      "metadata": {
        "id": "2aRRJQBklHos"
      },
      "source": [
        "### **i) Factor Analysis**"
      ]
    },
    {
      "cell_type": "code",
      "metadata": {
        "id": "tGmkk6woWSbV",
        "outputId": "f38c810a-2284-4bc5-cd54-671865caa9d7",
        "colab": {
          "base_uri": "https://localhost:8080/",
          "height": 204
        }
      },
      "source": [
        "# Performing adequacy tests\n",
        "# Installing factor analyzer \n",
        "!pip install factor_analyzer==0.2.3\n",
        "from factor_analyzer.factor_analyzer import calculate_bartlett_sphericity\n",
        "chi_square_value,p_value=calculate_bartlett_sphericity(df1)\n",
        "chi_square_value, p_value\n",
        "# In Bartlett ’s test, the p-value is 4.1645423146182944e-27. The test was statistically insignificant, \n",
        "# indicating that the observed correlation matrix is an identity matrix."
      ],
      "execution_count": 35,
      "outputs": [
        {
          "output_type": "stream",
          "text": [
            "Collecting factor_analyzer==0.2.3\n",
            "  Downloading https://files.pythonhosted.org/packages/79/1b/84808bbeee0f3a8753c3d8034baf0aa0013cf08957eff750f366ce83f04a/factor_analyzer-0.2.3-py2.py3-none-any.whl\n",
            "Requirement already satisfied: pandas in /usr/local/lib/python3.6/dist-packages (from factor_analyzer==0.2.3) (1.1.2)\n",
            "Requirement already satisfied: numpy in /usr/local/lib/python3.6/dist-packages (from factor_analyzer==0.2.3) (1.18.5)\n",
            "Requirement already satisfied: scipy in /usr/local/lib/python3.6/dist-packages (from factor_analyzer==0.2.3) (1.4.1)\n",
            "Requirement already satisfied: pytz>=2017.2 in /usr/local/lib/python3.6/dist-packages (from pandas->factor_analyzer==0.2.3) (2018.9)\n",
            "Requirement already satisfied: python-dateutil>=2.7.3 in /usr/local/lib/python3.6/dist-packages (from pandas->factor_analyzer==0.2.3) (2.8.1)\n",
            "Requirement already satisfied: six>=1.5 in /usr/local/lib/python3.6/dist-packages (from python-dateutil>=2.7.3->pandas->factor_analyzer==0.2.3) (1.15.0)\n",
            "Installing collected packages: factor-analyzer\n",
            "Successfully installed factor-analyzer-0.2.3\n"
          ],
          "name": "stdout"
        },
        {
          "output_type": "execute_result",
          "data": {
            "text/plain": [
              "(316.3276219649843, 4.1645423146182944e-27)"
            ]
          },
          "metadata": {
            "tags": []
          },
          "execution_count": 35
        }
      ]
    },
    {
      "cell_type": "markdown",
      "metadata": {
        "id": "kGJZ6RSPNGvW"
      },
      "source": [
        "### **minor adjustments:**"
      ]
    },
    {
      "cell_type": "code",
      "metadata": {
        "id": "9PfGklShbSwy",
        "outputId": "6ffb7e4c-ee0e-4104-9c9f-9189958920d7",
        "colab": {
          "base_uri": "https://localhost:8080/",
          "height": 272
        }
      },
      "source": [
        "# filling null values with zeros\n",
        "df2 = df1.fillna(0)\n",
        "df2.isnull().any()"
      ],
      "execution_count": 36,
      "outputs": [
        {
          "output_type": "execute_result",
          "data": {
            "text/plain": [
              "status                       False\n",
              "age                          False\n",
              "sex                          False\n",
              "on_thyroxine                 False\n",
              "query_on_thyroxine           False\n",
              "on_antithyroid_medication    False\n",
              "thyroid_surgery              False\n",
              "query_hypothyroid            False\n",
              "query_hyperthyroid           False\n",
              "pregnant                     False\n",
              "sick                         False\n",
              "tumor                        False\n",
              "lithium                      False\n",
              "goitre                       False\n",
              "dtype: bool"
            ]
          },
          "metadata": {
            "tags": []
          },
          "execution_count": 36
        }
      ]
    },
    {
      "cell_type": "code",
      "metadata": {
        "id": "Zz-i66epLnzm",
        "outputId": "64666b3d-3096-4be3-cd8f-b630fc6e5ef3",
        "colab": {
          "base_uri": "https://localhost:8080/",
          "height": 272
        }
      },
      "source": [
        "# previewing the datatypes\n",
        "df2.dtypes"
      ],
      "execution_count": 37,
      "outputs": [
        {
          "output_type": "execute_result",
          "data": {
            "text/plain": [
              "status                        object\n",
              "age                          float64\n",
              "sex                           object\n",
              "on_thyroxine                   int64\n",
              "query_on_thyroxine             int64\n",
              "on_antithyroid_medication      int64\n",
              "thyroid_surgery                int64\n",
              "query_hypothyroid              int64\n",
              "query_hyperthyroid             int64\n",
              "pregnant                       int64\n",
              "sick                           int64\n",
              "tumor                          int64\n",
              "lithium                        int64\n",
              "goitre                         int64\n",
              "dtype: object"
            ]
          },
          "metadata": {
            "tags": []
          },
          "execution_count": 37
        }
      ]
    },
    {
      "cell_type": "code",
      "metadata": {
        "id": "bKGXMGG9Nek5",
        "outputId": "49260308-537e-4eae-ebd7-99e4c54a4d15",
        "colab": {
          "base_uri": "https://localhost:8080/",
          "height": 272
        }
      },
      "source": [
        "# checking for null values\n",
        "df2.isnull().sum()"
      ],
      "execution_count": 38,
      "outputs": [
        {
          "output_type": "execute_result",
          "data": {
            "text/plain": [
              "status                       0\n",
              "age                          0\n",
              "sex                          0\n",
              "on_thyroxine                 0\n",
              "query_on_thyroxine           0\n",
              "on_antithyroid_medication    0\n",
              "thyroid_surgery              0\n",
              "query_hypothyroid            0\n",
              "query_hyperthyroid           0\n",
              "pregnant                     0\n",
              "sick                         0\n",
              "tumor                        0\n",
              "lithium                      0\n",
              "goitre                       0\n",
              "dtype: int64"
            ]
          },
          "metadata": {
            "tags": []
          },
          "execution_count": 38
        }
      ]
    },
    {
      "cell_type": "code",
      "metadata": {
        "id": "I2a1berMbBmo"
      },
      "source": [
        "# dropping unnecessary columns\n",
        "df2 = df2.drop(['status'], axis=1)\n",
        "df3 = df2.drop(['sex'], axis=1)"
      ],
      "execution_count": 39,
      "outputs": []
    },
    {
      "cell_type": "code",
      "metadata": {
        "id": "UAM7bi8zb33n"
      },
      "source": [
        "# converting variables from float to int \n",
        "df3['age'] = df3['age'].astype(int)"
      ],
      "execution_count": 40,
      "outputs": []
    },
    {
      "cell_type": "code",
      "metadata": {
        "id": "dS2P5DuycuI2",
        "outputId": "8117053f-3820-4f6e-9995-b5fbd16ae3ef",
        "colab": {
          "base_uri": "https://localhost:8080/",
          "height": 255
        }
      },
      "source": [
        "# printing the shape and datatypes\n",
        "print(df3.shape)\n",
        "print(df3.dtypes)"
      ],
      "execution_count": 41,
      "outputs": [
        {
          "output_type": "stream",
          "text": [
            "(914, 12)\n",
            "age                          int64\n",
            "on_thyroxine                 int64\n",
            "query_on_thyroxine           int64\n",
            "on_antithyroid_medication    int64\n",
            "thyroid_surgery              int64\n",
            "query_hypothyroid            int64\n",
            "query_hyperthyroid           int64\n",
            "pregnant                     int64\n",
            "sick                         int64\n",
            "tumor                        int64\n",
            "lithium                      int64\n",
            "goitre                       int64\n",
            "dtype: object\n"
          ],
          "name": "stdout"
        }
      ]
    },
    {
      "cell_type": "markdown",
      "metadata": {
        "id": "6zA8YdV_lOJP"
      },
      "source": [
        "### **ii) Principal Component Analysis**"
      ]
    },
    {
      "cell_type": "code",
      "metadata": {
        "id": "dE-PtYVblUsu"
      },
      "source": [
        "# preprocessing\n",
        "X = df3.iloc[:, 0:11].values\n",
        "y = df3.iloc[:, 11].values"
      ],
      "execution_count": 42,
      "outputs": []
    },
    {
      "cell_type": "code",
      "metadata": {
        "id": "2Lk9yS7-lqal"
      },
      "source": [
        "# splitting the dataset into training and test sets\n",
        "from sklearn.model_selection import train_test_split\n",
        "\n",
        "X_train, X_test, y_train, y_test = train_test_split(X, y, test_size=0.2, random_state=0)"
      ],
      "execution_count": 43,
      "outputs": []
    },
    {
      "cell_type": "code",
      "metadata": {
        "id": "-8_WEFKGl1DK"
      },
      "source": [
        "# normalization\n",
        "from sklearn.preprocessing import StandardScaler\n",
        "\n",
        "sc = StandardScaler()\n",
        "X_train = sc.fit_transform(X_train)\n",
        "X_test = sc.transform(X_test)"
      ],
      "execution_count": 44,
      "outputs": []
    },
    {
      "cell_type": "code",
      "metadata": {
        "id": "u4Jbz_yrl3P7"
      },
      "source": [
        "# applyting PCA\n",
        "from sklearn.decomposition import PCA\n",
        "\n",
        "pca = PCA()\n",
        "X_train = pca.fit_transform(X_train)\n",
        "X_test = pca.transform(X_test)"
      ],
      "execution_count": 45,
      "outputs": []
    },
    {
      "cell_type": "code",
      "metadata": {
        "id": "qrRRGZVWl-jD",
        "outputId": "f065eebb-83c4-48e3-8ed8-e8ca8f2370a4",
        "colab": {
          "base_uri": "https://localhost:8080/",
          "height": 68
        }
      },
      "source": [
        "# explained variance ratio\n",
        "explained_variance = pca.explained_variance_ratio_\n",
        "explained_variance"
      ],
      "execution_count": 46,
      "outputs": [
        {
          "output_type": "execute_result",
          "data": {
            "text/plain": [
              "array([0.12684918, 0.11402903, 0.10723858, 0.09806844, 0.09432151,\n",
              "       0.0902463 , 0.08838177, 0.08532877, 0.07441717, 0.06958401,\n",
              "       0.05153524])"
            ]
          },
          "metadata": {
            "tags": []
          },
          "execution_count": 46
        }
      ]
    },
    {
      "cell_type": "code",
      "metadata": {
        "id": "KMqXEJE-mIP8"
      },
      "source": [
        "# using 1 principal component\n",
        "from sklearn.decomposition import PCA\n",
        "\n",
        "pca = PCA(n_components=1)\n",
        "X_train = pca.fit_transform(X_train)\n",
        "X_test = pca.transform(X_test)"
      ],
      "execution_count": 47,
      "outputs": []
    },
    {
      "cell_type": "code",
      "metadata": {
        "id": "AQLMaDXbmgQf"
      },
      "source": [
        "# training and making predictions\n",
        "from sklearn.ensemble import RandomForestClassifier\n",
        "\n",
        "classifier = RandomForestClassifier(max_depth=2, random_state=0)\n",
        "classifier.fit(X_train, y_train)\n",
        "\n",
        "# Predicting the Test set results\n",
        "y_pred = classifier.predict(X_test)"
      ],
      "execution_count": 48,
      "outputs": []
    },
    {
      "cell_type": "code",
      "metadata": {
        "id": "-ev42o4cmP7q",
        "outputId": "4689d0b1-f184-491f-f053-eadb1a30729f",
        "colab": {
          "base_uri": "https://localhost:8080/",
          "height": 68
        }
      },
      "source": [
        "# performance evaluation\n",
        "from sklearn.metrics import confusion_matrix\n",
        "from sklearn.metrics import accuracy_score\n",
        "# Predicting the Test set results\n",
        "y_pred = classifier.predict(X_test)\n",
        "cm = confusion_matrix(y_test, y_pred)\n",
        "print(cm)\n",
        "print('Accuracy' , accuracy_score(y_test, y_pred))\n",
        "\n",
        "## the accuracy of this evaluation is less than 1"
      ],
      "execution_count": 49,
      "outputs": [
        {
          "output_type": "stream",
          "text": [
            "[[170   0]\n",
            " [ 13   0]]\n",
            "Accuracy 0.9289617486338798\n"
          ],
          "name": "stdout"
        }
      ]
    },
    {
      "cell_type": "markdown",
      "metadata": {
        "id": "c6a4qqvjlWyY"
      },
      "source": [
        "### **iii) Linear Discriminant Analysis**"
      ]
    },
    {
      "cell_type": "markdown",
      "metadata": {
        "id": "ODsBuM7FP8cm"
      },
      "source": [
        "\n",
        "\n",
        "> ***with the two reduction tecnhiques shown, I tried to use the LDA method too, though for this case, it was not essential hence the incomplete analysis.***\n",
        "\n"
      ]
    },
    {
      "cell_type": "code",
      "metadata": {
        "id": "6tMca-9ylaou"
      },
      "source": [
        "# preprocessing\n",
        "X = df3.iloc[:, 0:11].values\n",
        "y = df3.iloc[:, 11].values"
      ],
      "execution_count": 50,
      "outputs": []
    },
    {
      "cell_type": "code",
      "metadata": {
        "id": "T6ZgGfkmpG4g"
      },
      "source": [
        "# divides data into training and test sets\n",
        "#\n",
        "from sklearn.model_selection import train_test_split\n",
        "X_train, X_test, y_train, y_test = train_test_split(X, y, test_size=0.2, random_state=0)"
      ],
      "execution_count": 51,
      "outputs": []
    },
    {
      "cell_type": "code",
      "metadata": {
        "id": "uUVPnzffpIIt"
      },
      "source": [
        "# Feature scaling\n",
        "# We now need to perform feature scaling. We execute the following code to do so:\n",
        "# \n",
        "from sklearn.preprocessing import StandardScaler\n",
        "sc = StandardScaler()\n",
        "X_train = sc.fit_transform(X_train)\n",
        "X_test = sc.transform(X_test)"
      ],
      "execution_count": 52,
      "outputs": []
    },
    {
      "cell_type": "code",
      "metadata": {
        "id": "Q1CBpB3hpP7Y"
      },
      "source": [
        "# Peforming LDA\n",
        "\n",
        "from sklearn.discriminant_analysis import LinearDiscriminantAnalysis as LDA\n",
        "lda = LDA(n_components=1)\n",
        "X_train = lda.fit_transform(X_train, y_train)\n",
        "X_test = lda.transform(X_test)"
      ],
      "execution_count": 53,
      "outputs": []
    },
    {
      "cell_type": "code",
      "metadata": {
        "id": "a1ih1AOfpSIU"
      },
      "source": [
        "# Training and Making Predictions\n",
        "#from sklearn.ensemble import RandomForestClassifier\n",
        "\n",
        "#classifier = RandomForestClassifier(max_depth=2, random_state=0)\n",
        "#classifier.fit(X_train, y_train)\n",
        "#y_pred = classifier.predict(X_test)"
      ],
      "execution_count": 54,
      "outputs": []
    },
    {
      "cell_type": "code",
      "metadata": {
        "id": "xeDSBnVYpYmQ"
      },
      "source": [
        "# Evaluating the Performance\n",
        "#from sklearn.metrics import confusion_matrix\n",
        "#from sklearn.metrics import accuracy_score\n",
        "\n",
        "#cm = confusion_matrix(y_test, y_pred)\n",
        "#print(cm)\n",
        "#print('Accuracy' + str(accuracy_score(y_test, y_pred)))"
      ],
      "execution_count": 55,
      "outputs": []
    },
    {
      "cell_type": "markdown",
      "metadata": {
        "id": "vGDWSTWwgOZz"
      },
      "source": [
        "# **IMPLEMENTING THE SOLUTION**"
      ]
    },
    {
      "cell_type": "markdown",
      "metadata": {
        "id": "3ABZCKPoREYa"
      },
      "source": [
        "Nairobi Hospital conducted a clinical camp to test for hypothyroidism. The data collected focused on Thyroid patients. Use the healthcare datasets provided to accomplish the following:  \n",
        "\n",
        "\n",
        "\n",
        "> ***Build a model that determines whether or not the patient's symptoms indicate that the patient has hypothyroid.***\n",
        "\n",
        "\n",
        "\n"
      ]
    },
    {
      "cell_type": "markdown",
      "metadata": {
        "id": "0QQLJl6IV8NK"
      },
      "source": [
        "## **PART 1: DECISION TREES**"
      ]
    },
    {
      "cell_type": "code",
      "metadata": {
        "id": "cok6CzrAR3e-"
      },
      "source": [
        "# Build a model that determines whether or not the patient's symptoms indicate that the patient has hypothyroid."
      ],
      "execution_count": 56,
      "outputs": []
    },
    {
      "cell_type": "code",
      "metadata": {
        "id": "mrBp7FxuSq_s",
        "outputId": "8aaffeb1-58d1-4d5e-f543-5c84cc01ec38",
        "colab": {
          "base_uri": "https://localhost:8080/",
          "height": 119
        }
      },
      "source": [
        "# previewing the columns in the dataset\n",
        "df.columns"
      ],
      "execution_count": 57,
      "outputs": [
        {
          "output_type": "execute_result",
          "data": {
            "text/plain": [
              "Index(['status', 'age', 'sex', 'on_thyroxine', 'query_on_thyroxine',\n",
              "       'on_antithyroid_medication', 'thyroid_surgery', 'query_hypothyroid',\n",
              "       'query_hyperthyroid', 'pregnant', 'sick', 'tumor', 'lithium', 'goitre',\n",
              "       'TSH_measured', 'TSH', 'T3_measured', 'T3', 'TT4_measured', 'TT4',\n",
              "       'T4U_measured', 'T4U', 'FTI_measured', 'FTI', 'TBG_measured', 'TBG'],\n",
              "      dtype='object')"
            ]
          },
          "metadata": {
            "tags": []
          },
          "execution_count": 57
        }
      ]
    },
    {
      "cell_type": "markdown",
      "metadata": {
        "id": "JBAvoGjFbKNy"
      },
      "source": [
        "### **Using Random Forest**"
      ]
    },
    {
      "cell_type": "code",
      "metadata": {
        "id": "V7QBf5VTcQE9",
        "outputId": "06683512-df7a-4d68-f659-dc039e99620d",
        "colab": {
          "base_uri": "https://localhost:8080/",
          "height": 476
        }
      },
      "source": [
        "# filling null values with zeros\n",
        "df4 = df.fillna(0)\n",
        "df4.isnull().any()"
      ],
      "execution_count": 58,
      "outputs": [
        {
          "output_type": "execute_result",
          "data": {
            "text/plain": [
              "status                       False\n",
              "age                          False\n",
              "sex                          False\n",
              "on_thyroxine                 False\n",
              "query_on_thyroxine           False\n",
              "on_antithyroid_medication    False\n",
              "thyroid_surgery              False\n",
              "query_hypothyroid            False\n",
              "query_hyperthyroid           False\n",
              "pregnant                     False\n",
              "sick                         False\n",
              "tumor                        False\n",
              "lithium                      False\n",
              "goitre                       False\n",
              "TSH_measured                 False\n",
              "TSH                          False\n",
              "T3_measured                  False\n",
              "T3                           False\n",
              "TT4_measured                 False\n",
              "TT4                          False\n",
              "T4U_measured                 False\n",
              "T4U                          False\n",
              "FTI_measured                 False\n",
              "FTI                          False\n",
              "TBG_measured                 False\n",
              "TBG                          False\n",
              "dtype: bool"
            ]
          },
          "metadata": {
            "tags": []
          },
          "execution_count": 58
        }
      ]
    },
    {
      "cell_type": "code",
      "metadata": {
        "id": "m0J9xoaOeSFs"
      },
      "source": [
        "# converting variables from float to int\n",
        "m = df4.select_dtypes(np.number)\n",
        "df4[m.columns]= m.round().astype('Int64')"
      ],
      "execution_count": 59,
      "outputs": []
    },
    {
      "cell_type": "code",
      "metadata": {
        "id": "_4A7FCZhgyyP",
        "outputId": "9aa1ccba-13f4-438b-c90f-a312caea8b23",
        "colab": {
          "base_uri": "https://localhost:8080/",
          "height": 419
        }
      },
      "source": [
        "# dropping unnecessary columns\n",
        "df5 = df4.drop(['sex','on_thyroxine', 'query_on_thyroxine',\n",
        "       'on_antithyroid_medication', 'thyroid_surgery', 'query_hypothyroid',\n",
        "       'query_hyperthyroid', 'pregnant', 'sick', 'tumor', 'lithium', 'goitre', \n",
        "       'TSH_measured', 'T3_measured', 'TT4_measured', 'T4U_measured', 'FTI_measured', 'TBG_measured'], axis=1)\n",
        "df5"
      ],
      "execution_count": 60,
      "outputs": [
        {
          "output_type": "execute_result",
          "data": {
            "text/html": [
              "<div>\n",
              "<style scoped>\n",
              "    .dataframe tbody tr th:only-of-type {\n",
              "        vertical-align: middle;\n",
              "    }\n",
              "\n",
              "    .dataframe tbody tr th {\n",
              "        vertical-align: top;\n",
              "    }\n",
              "\n",
              "    .dataframe thead th {\n",
              "        text-align: right;\n",
              "    }\n",
              "</style>\n",
              "<table border=\"1\" class=\"dataframe\">\n",
              "  <thead>\n",
              "    <tr style=\"text-align: right;\">\n",
              "      <th></th>\n",
              "      <th>status</th>\n",
              "      <th>age</th>\n",
              "      <th>TSH</th>\n",
              "      <th>T3</th>\n",
              "      <th>TT4</th>\n",
              "      <th>T4U</th>\n",
              "      <th>FTI</th>\n",
              "      <th>TBG</th>\n",
              "    </tr>\n",
              "  </thead>\n",
              "  <tbody>\n",
              "    <tr>\n",
              "      <th>0</th>\n",
              "      <td>hypothyroid</td>\n",
              "      <td>72</td>\n",
              "      <td>30</td>\n",
              "      <td>1</td>\n",
              "      <td>15</td>\n",
              "      <td>1</td>\n",
              "      <td>10</td>\n",
              "      <td>0</td>\n",
              "    </tr>\n",
              "    <tr>\n",
              "      <th>1</th>\n",
              "      <td>hypothyroid</td>\n",
              "      <td>15</td>\n",
              "      <td>145</td>\n",
              "      <td>2</td>\n",
              "      <td>19</td>\n",
              "      <td>1</td>\n",
              "      <td>17</td>\n",
              "      <td>0</td>\n",
              "    </tr>\n",
              "    <tr>\n",
              "      <th>2</th>\n",
              "      <td>hypothyroid</td>\n",
              "      <td>24</td>\n",
              "      <td>0</td>\n",
              "      <td>0</td>\n",
              "      <td>4</td>\n",
              "      <td>1</td>\n",
              "      <td>0</td>\n",
              "      <td>0</td>\n",
              "    </tr>\n",
              "    <tr>\n",
              "      <th>3</th>\n",
              "      <td>hypothyroid</td>\n",
              "      <td>24</td>\n",
              "      <td>430</td>\n",
              "      <td>0</td>\n",
              "      <td>6</td>\n",
              "      <td>1</td>\n",
              "      <td>6</td>\n",
              "      <td>0</td>\n",
              "    </tr>\n",
              "    <tr>\n",
              "      <th>4</th>\n",
              "      <td>hypothyroid</td>\n",
              "      <td>77</td>\n",
              "      <td>7</td>\n",
              "      <td>1</td>\n",
              "      <td>57</td>\n",
              "      <td>1</td>\n",
              "      <td>44</td>\n",
              "      <td>0</td>\n",
              "    </tr>\n",
              "    <tr>\n",
              "      <th>...</th>\n",
              "      <td>...</td>\n",
              "      <td>...</td>\n",
              "      <td>...</td>\n",
              "      <td>...</td>\n",
              "      <td>...</td>\n",
              "      <td>...</td>\n",
              "      <td>...</td>\n",
              "      <td>...</td>\n",
              "    </tr>\n",
              "    <tr>\n",
              "      <th>3158</th>\n",
              "      <td>negative</td>\n",
              "      <td>58</td>\n",
              "      <td>6</td>\n",
              "      <td>2</td>\n",
              "      <td>86</td>\n",
              "      <td>1</td>\n",
              "      <td>95</td>\n",
              "      <td>0</td>\n",
              "    </tr>\n",
              "    <tr>\n",
              "      <th>3159</th>\n",
              "      <td>negative</td>\n",
              "      <td>29</td>\n",
              "      <td>1</td>\n",
              "      <td>2</td>\n",
              "      <td>99</td>\n",
              "      <td>1</td>\n",
              "      <td>98</td>\n",
              "      <td>0</td>\n",
              "    </tr>\n",
              "    <tr>\n",
              "      <th>3160</th>\n",
              "      <td>negative</td>\n",
              "      <td>77</td>\n",
              "      <td>1</td>\n",
              "      <td>1</td>\n",
              "      <td>71</td>\n",
              "      <td>1</td>\n",
              "      <td>104</td>\n",
              "      <td>0</td>\n",
              "    </tr>\n",
              "    <tr>\n",
              "      <th>3161</th>\n",
              "      <td>negative</td>\n",
              "      <td>74</td>\n",
              "      <td>1</td>\n",
              "      <td>0</td>\n",
              "      <td>65</td>\n",
              "      <td>0</td>\n",
              "      <td>137</td>\n",
              "      <td>0</td>\n",
              "    </tr>\n",
              "    <tr>\n",
              "      <th>3162</th>\n",
              "      <td>negative</td>\n",
              "      <td>56</td>\n",
              "      <td>0</td>\n",
              "      <td>2</td>\n",
              "      <td>139</td>\n",
              "      <td>1</td>\n",
              "      <td>143</td>\n",
              "      <td>0</td>\n",
              "    </tr>\n",
              "  </tbody>\n",
              "</table>\n",
              "<p>3163 rows × 8 columns</p>\n",
              "</div>"
            ],
            "text/plain": [
              "           status  age  TSH  T3  TT4  T4U  FTI  TBG\n",
              "0     hypothyroid   72   30   1   15    1   10    0\n",
              "1     hypothyroid   15  145   2   19    1   17    0\n",
              "2     hypothyroid   24    0   0    4    1    0    0\n",
              "3     hypothyroid   24  430   0    6    1    6    0\n",
              "4     hypothyroid   77    7   1   57    1   44    0\n",
              "...           ...  ...  ...  ..  ...  ...  ...  ...\n",
              "3158     negative   58    6   2   86    1   95    0\n",
              "3159     negative   29    1   2   99    1   98    0\n",
              "3160     negative   77    1   1   71    1  104    0\n",
              "3161     negative   74    1   0   65    0  137    0\n",
              "3162     negative   56    0   2  139    1  143    0\n",
              "\n",
              "[3163 rows x 8 columns]"
            ]
          },
          "metadata": {
            "tags": []
          },
          "execution_count": 60
        }
      ]
    },
    {
      "cell_type": "code",
      "metadata": {
        "id": "YOa7kMVphU2I",
        "outputId": "9bfdfa0f-09e4-40e1-ceaf-29d98184d9f1",
        "colab": {
          "base_uri": "https://localhost:8080/",
          "height": 34
        }
      },
      "source": [
        "# previewing the dataset\n",
        "df5.columns"
      ],
      "execution_count": 61,
      "outputs": [
        {
          "output_type": "execute_result",
          "data": {
            "text/plain": [
              "Index(['status', 'age', 'TSH', 'T3', 'TT4', 'T4U', 'FTI', 'TBG'], dtype='object')"
            ]
          },
          "metadata": {
            "tags": []
          },
          "execution_count": 61
        }
      ]
    },
    {
      "cell_type": "code",
      "metadata": {
        "id": "4_EMiLPHbIeA",
        "outputId": "9b0da1f9-9da6-4ba7-e0b0-03c5f0fd16c5",
        "colab": {
          "base_uri": "https://localhost:8080/",
          "height": 85
        }
      },
      "source": [
        "# importing the required libraries\n",
        "from sklearn.model_selection import train_test_split\n",
        "\n",
        "# the prediction model to be built will be used to determine whether or not \n",
        "# the patient's symptoms indicate that the patient has hypothyroid.\n",
        "# for that we will use the status column as our Y\n",
        "y = df5['status'].values\n",
        "\n",
        "# test_features = [['age', 'TSH_measured', 'TSH', 'T3_measured', 'T3', 'TT4_measured', 'TT4',\n",
        "       # 'T4U_measured', 'T4U', 'FTI_measured', 'FTI', 'TBG_measured', 'TBG']\n",
        "test_features = df5.columns.to_list()\n",
        "test_features.remove('status')\n",
        "\n",
        "# We should be able to use nearly all the other features, but for the sake of simplifying our visualization later, we only pick a few.\n",
        "X = df5[test_features].values\n",
        "\n",
        "# Train using 70% of the data.\n",
        "X_train, X_test, y_train, y_test = train_test_split(X, y, test_size=0.3, random_state=0)\n",
        "print(X_train.shape)\n",
        "print(y_train.shape)\n",
        "print(X_test.shape)\n",
        "print(y_test.shape)"
      ],
      "execution_count": 62,
      "outputs": [
        {
          "output_type": "stream",
          "text": [
            "(2214, 7)\n",
            "(2214,)\n",
            "(949, 7)\n",
            "(949,)\n"
          ],
          "name": "stdout"
        }
      ]
    },
    {
      "cell_type": "code",
      "metadata": {
        "id": "WyCVDvy7f4oZ",
        "outputId": "07ad6fd3-01d4-4172-db14-b70061122a98",
        "colab": {
          "base_uri": "https://localhost:8080/",
          "height": 153
        }
      },
      "source": [
        "# Importing Random Forest Classifier\n",
        "from sklearn.ensemble import RandomForestClassifier\n",
        "forest=RandomForestClassifier(n_estimators=100, random_state=42, min_samples_split = 20, max_depth=5)\n",
        "forest.fit(X_train,y_train)"
      ],
      "execution_count": 63,
      "outputs": [
        {
          "output_type": "execute_result",
          "data": {
            "text/plain": [
              "RandomForestClassifier(bootstrap=True, ccp_alpha=0.0, class_weight=None,\n",
              "                       criterion='gini', max_depth=5, max_features='auto',\n",
              "                       max_leaf_nodes=None, max_samples=None,\n",
              "                       min_impurity_decrease=0.0, min_impurity_split=None,\n",
              "                       min_samples_leaf=1, min_samples_split=20,\n",
              "                       min_weight_fraction_leaf=0.0, n_estimators=100,\n",
              "                       n_jobs=None, oob_score=False, random_state=42, verbose=0,\n",
              "                       warm_start=False)"
            ]
          },
          "metadata": {
            "tags": []
          },
          "execution_count": 63
        }
      ]
    },
    {
      "cell_type": "code",
      "metadata": {
        "id": "EOnIBXQql5mU",
        "outputId": "41910ee9-515e-437c-a982-54b399943e35",
        "colab": {
          "base_uri": "https://localhost:8080/",
          "height": 297
        }
      },
      "source": [
        "# previewing the statistical features of the data\n",
        "df5.describe()"
      ],
      "execution_count": 64,
      "outputs": [
        {
          "output_type": "execute_result",
          "data": {
            "text/html": [
              "<div>\n",
              "<style scoped>\n",
              "    .dataframe tbody tr th:only-of-type {\n",
              "        vertical-align: middle;\n",
              "    }\n",
              "\n",
              "    .dataframe tbody tr th {\n",
              "        vertical-align: top;\n",
              "    }\n",
              "\n",
              "    .dataframe thead th {\n",
              "        text-align: right;\n",
              "    }\n",
              "</style>\n",
              "<table border=\"1\" class=\"dataframe\">\n",
              "  <thead>\n",
              "    <tr style=\"text-align: right;\">\n",
              "      <th></th>\n",
              "      <th>age</th>\n",
              "      <th>TSH</th>\n",
              "      <th>T3</th>\n",
              "      <th>TT4</th>\n",
              "      <th>T4U</th>\n",
              "      <th>FTI</th>\n",
              "      <th>TBG</th>\n",
              "    </tr>\n",
              "  </thead>\n",
              "  <tbody>\n",
              "    <tr>\n",
              "      <th>count</th>\n",
              "      <td>3163.000000</td>\n",
              "      <td>3163.000000</td>\n",
              "      <td>3163.000000</td>\n",
              "      <td>3163.000000</td>\n",
              "      <td>3163.000000</td>\n",
              "      <td>3163.000000</td>\n",
              "      <td>3163.000000</td>\n",
              "    </tr>\n",
              "    <tr>\n",
              "      <th>mean</th>\n",
              "      <td>43.941195</td>\n",
              "      <td>5.036358</td>\n",
              "      <td>1.515650</td>\n",
              "      <td>100.281378</td>\n",
              "      <td>0.944040</td>\n",
              "      <td>106.386342</td>\n",
              "      <td>2.570977</td>\n",
              "    </tr>\n",
              "    <tr>\n",
              "      <th>std</th>\n",
              "      <td>25.235169</td>\n",
              "      <td>22.163221</td>\n",
              "      <td>1.218658</td>\n",
              "      <td>52.588161</td>\n",
              "      <td>0.353484</td>\n",
              "      <td>65.607437</td>\n",
              "      <td>10.204035</td>\n",
              "    </tr>\n",
              "    <tr>\n",
              "      <th>min</th>\n",
              "      <td>0.000000</td>\n",
              "      <td>0.000000</td>\n",
              "      <td>0.000000</td>\n",
              "      <td>0.000000</td>\n",
              "      <td>0.000000</td>\n",
              "      <td>0.000000</td>\n",
              "      <td>0.000000</td>\n",
              "    </tr>\n",
              "    <tr>\n",
              "      <th>25%</th>\n",
              "      <td>27.000000</td>\n",
              "      <td>0.000000</td>\n",
              "      <td>0.000000</td>\n",
              "      <td>76.000000</td>\n",
              "      <td>1.000000</td>\n",
              "      <td>85.000000</td>\n",
              "      <td>0.000000</td>\n",
              "    </tr>\n",
              "    <tr>\n",
              "      <th>50%</th>\n",
              "      <td>48.000000</td>\n",
              "      <td>0.000000</td>\n",
              "      <td>2.000000</td>\n",
              "      <td>100.000000</td>\n",
              "      <td>1.000000</td>\n",
              "      <td>105.000000</td>\n",
              "      <td>0.000000</td>\n",
              "    </tr>\n",
              "    <tr>\n",
              "      <th>75%</th>\n",
              "      <td>64.000000</td>\n",
              "      <td>2.000000</td>\n",
              "      <td>2.000000</td>\n",
              "      <td>124.000000</td>\n",
              "      <td>1.000000</td>\n",
              "      <td>126.000000</td>\n",
              "      <td>0.000000</td>\n",
              "    </tr>\n",
              "    <tr>\n",
              "      <th>max</th>\n",
              "      <td>98.000000</td>\n",
              "      <td>530.000000</td>\n",
              "      <td>10.000000</td>\n",
              "      <td>450.000000</td>\n",
              "      <td>2.000000</td>\n",
              "      <td>881.000000</td>\n",
              "      <td>122.000000</td>\n",
              "    </tr>\n",
              "  </tbody>\n",
              "</table>\n",
              "</div>"
            ],
            "text/plain": [
              "               age          TSH  ...          FTI          TBG\n",
              "count  3163.000000  3163.000000  ...  3163.000000  3163.000000\n",
              "mean     43.941195     5.036358  ...   106.386342     2.570977\n",
              "std      25.235169    22.163221  ...    65.607437    10.204035\n",
              "min       0.000000     0.000000  ...     0.000000     0.000000\n",
              "25%      27.000000     0.000000  ...    85.000000     0.000000\n",
              "50%      48.000000     0.000000  ...   105.000000     0.000000\n",
              "75%      64.000000     2.000000  ...   126.000000     0.000000\n",
              "max      98.000000   530.000000  ...   881.000000   122.000000\n",
              "\n",
              "[8 rows x 7 columns]"
            ]
          },
          "metadata": {
            "tags": []
          },
          "execution_count": 64
        }
      ]
    },
    {
      "cell_type": "code",
      "metadata": {
        "id": "J70XjU2xfhpQ"
      },
      "source": [
        "# Predicting based on the model trained\n",
        "y_pred = forest.predict(X_test)\n",
        "\n",
        "#comparison_frame = pd.DataFrame({'Actual': y_test.flatten(), 'Predicted': y_pred.flatten()})\n",
        "#comparison_frame.describe()\n",
        "#\n",
        "# for this case, the ones with 'hypothroid' means that the symptoms indicate \n",
        "# that a person has hypothrois while the negatives idicate that the person doesnt have the disease"
      ],
      "execution_count": 65,
      "outputs": []
    },
    {
      "cell_type": "markdown",
      "metadata": {
        "id": "42VIUX0CjVa7"
      },
      "source": [
        "### **Using Gradient boosting**"
      ]
    },
    {
      "cell_type": "code",
      "metadata": {
        "id": "Y6geuP-RjYtn"
      },
      "source": [
        "# importing libraries\n",
        "from sklearn.ensemble import GradientBoostingClassifier\n",
        "from sklearn.metrics import classification_report, confusion_matrix"
      ],
      "execution_count": 66,
      "outputs": []
    },
    {
      "cell_type": "code",
      "metadata": {
        "id": "MNOgutLym3d0",
        "outputId": "83a1bcef-0554-4bf3-b7ae-e9ad8a74c00d",
        "colab": {
          "base_uri": "https://localhost:8080/",
          "height": 425
        }
      },
      "source": [
        "# train with Gradient Boosting algorithm\n",
        "# computing the accuracy scores on train and validation sets when training with different learning rates\n",
        "\n",
        "learning_rates = [0.05, 0.1, 0.25, 0.5, 0.75, 1]\n",
        "for learning_rate in learning_rates:\n",
        "    gb = GradientBoostingClassifier(n_estimators=20, learning_rate = learning_rate, max_features=2, max_depth = 2, random_state = 0)\n",
        "    gb.fit(X_train, y_train)\n",
        "    print(\"Learning rate: \", learning_rate)\n",
        "    print(\"Accuracy score (training): {0:.3f}\".format(gb.score(X_train, y_train)))\n",
        "    print(\"Accuracy score (validation): {0:.3f}\".format(gb.score(X_test, y_test)))\n",
        "    print()"
      ],
      "execution_count": 67,
      "outputs": [
        {
          "output_type": "stream",
          "text": [
            "Learning rate:  0.05\n",
            "Accuracy score (training): 0.980\n",
            "Accuracy score (validation): 0.978\n",
            "\n",
            "Learning rate:  0.1\n",
            "Accuracy score (training): 0.989\n",
            "Accuracy score (validation): 0.981\n",
            "\n",
            "Learning rate:  0.25\n",
            "Accuracy score (training): 0.993\n",
            "Accuracy score (validation): 0.987\n",
            "\n",
            "Learning rate:  0.5\n",
            "Accuracy score (training): 0.894\n",
            "Accuracy score (validation): 0.889\n",
            "\n",
            "Learning rate:  0.75\n",
            "Accuracy score (training): 0.994\n",
            "Accuracy score (validation): 0.988\n",
            "\n",
            "Learning rate:  1\n",
            "Accuracy score (training): 0.887\n",
            "Accuracy score (validation): 0.891\n",
            "\n"
          ],
          "name": "stdout"
        }
      ]
    },
    {
      "cell_type": "code",
      "metadata": {
        "id": "i5k1METZnK2G",
        "outputId": "2d42faa6-a7e1-4a54-b5f3-a349f6029de9",
        "colab": {
          "base_uri": "https://localhost:8080/",
          "height": 255
        }
      },
      "source": [
        "# Output confusion matrix and classification report of Gradient Boosting algorithm on validation set\n",
        "\n",
        "gb = GradientBoostingClassifier(n_estimators=20,learning_rate = 0.5,random_state = 7)\n",
        "gb.fit(X_train, y_train)\n",
        "predictions = gb.predict(X_test)\n",
        "\n",
        "print(\"Confusion Matrix for Gradient boosting:\")\n",
        "print(confusion_matrix(y_test, predictions))\n",
        "print()\n",
        "print(\"Classification Report for Gradient Boosting\")\n",
        "print(classification_report(y_test, predictions))"
      ],
      "execution_count": 68,
      "outputs": [
        {
          "output_type": "stream",
          "text": [
            "Confusion Matrix for Gradient boosting:\n",
            "[[ 31   8]\n",
            " [  9 901]]\n",
            "\n",
            "Classification Report for Gradient Boosting\n",
            "              precision    recall  f1-score   support\n",
            "\n",
            " hypothyroid       0.78      0.79      0.78        39\n",
            "    negative       0.99      0.99      0.99       910\n",
            "\n",
            "    accuracy                           0.98       949\n",
            "   macro avg       0.88      0.89      0.89       949\n",
            "weighted avg       0.98      0.98      0.98       949\n",
            "\n"
          ],
          "name": "stdout"
        }
      ]
    },
    {
      "cell_type": "markdown",
      "metadata": {
        "id": "zjZH5AcJqEd0"
      },
      "source": [
        "Part 1: Decision trees:\n",
        "- For this section, you should build a model that makes the above prediction. You should not use individual decision trees, rather you should use at least 2 out of the 3 advanced models we have studied: Random forests, Ada boosted trees, and gradient boosted trees.\n",
        "- Try and optimize each of the 2 models, making sure to document how you've set up your hyperparameters.\n",
        "- Identify which of the 2 models you trust most, and use your model to determine which features are most impactful in influencing the prediction\n",
        "- Note that with decision trees, you don't need to do a lot of data cleaning. This will be very different with SVM."
      ]
    },
    {
      "cell_type": "markdown",
      "metadata": {
        "id": "q8GXLgJzWEBc"
      },
      "source": [
        "## **PART 2: SUPPORT VECTOR MACHINES (SVM)**"
      ]
    },
    {
      "cell_type": "code",
      "metadata": {
        "id": "bS0GH4NBWKOQ"
      },
      "source": [
        "# importing libraries\n",
        "import seaborn as sns; sns.set(font_scale=1.2)\n",
        "# Import Suport Vector Classifier module from svm library. We'll use SVC to model our data\n",
        "from sklearn.svm import SVC,LinearSVC\n",
        "from sklearn.model_selection import train_test_split\n",
        "# Import scikit-learn metrics module for accuracy calculation\n",
        "from sklearn.metrics import  accuracy_score\n",
        "from sklearn.metrics import confusion_matrix\n",
        "from sklearn.utils import shuffle\n",
        "from sklearn.svm import SVC\n",
        "from sklearn.metrics import classification_report\n",
        "from sklearn.model_selection import cross_val_score, GridSearchCV"
      ],
      "execution_count": 69,
      "outputs": []
    },
    {
      "cell_type": "code",
      "metadata": {
        "id": "g4vZo0rwrp1s",
        "outputId": "fe8060c3-370a-49f6-daae-b71260ad02dd",
        "colab": {
          "base_uri": "https://localhost:8080/",
          "height": 170
        }
      },
      "source": [
        "# previewing the dataset \n",
        "df5.dtypes"
      ],
      "execution_count": 70,
      "outputs": [
        {
          "output_type": "execute_result",
          "data": {
            "text/plain": [
              "status    object\n",
              "age        Int64\n",
              "TSH        Int64\n",
              "T3         Int64\n",
              "TT4        Int64\n",
              "T4U        Int64\n",
              "FTI        Int64\n",
              "TBG        Int64\n",
              "dtype: object"
            ]
          },
          "metadata": {
            "tags": []
          },
          "execution_count": 70
        }
      ]
    },
    {
      "cell_type": "code",
      "metadata": {
        "id": "n6MIK0WNr0F-",
        "outputId": "594849b4-c05b-4c82-d184-d8a04124abc4",
        "colab": {
          "base_uri": "https://localhost:8080/",
          "height": 204
        }
      },
      "source": [
        "# dropping unnecessary columns\n",
        "df6 = df5.drop(['age'], axis=1)\n",
        "df6.head()"
      ],
      "execution_count": 71,
      "outputs": [
        {
          "output_type": "execute_result",
          "data": {
            "text/html": [
              "<div>\n",
              "<style scoped>\n",
              "    .dataframe tbody tr th:only-of-type {\n",
              "        vertical-align: middle;\n",
              "    }\n",
              "\n",
              "    .dataframe tbody tr th {\n",
              "        vertical-align: top;\n",
              "    }\n",
              "\n",
              "    .dataframe thead th {\n",
              "        text-align: right;\n",
              "    }\n",
              "</style>\n",
              "<table border=\"1\" class=\"dataframe\">\n",
              "  <thead>\n",
              "    <tr style=\"text-align: right;\">\n",
              "      <th></th>\n",
              "      <th>status</th>\n",
              "      <th>TSH</th>\n",
              "      <th>T3</th>\n",
              "      <th>TT4</th>\n",
              "      <th>T4U</th>\n",
              "      <th>FTI</th>\n",
              "      <th>TBG</th>\n",
              "    </tr>\n",
              "  </thead>\n",
              "  <tbody>\n",
              "    <tr>\n",
              "      <th>0</th>\n",
              "      <td>hypothyroid</td>\n",
              "      <td>30</td>\n",
              "      <td>1</td>\n",
              "      <td>15</td>\n",
              "      <td>1</td>\n",
              "      <td>10</td>\n",
              "      <td>0</td>\n",
              "    </tr>\n",
              "    <tr>\n",
              "      <th>1</th>\n",
              "      <td>hypothyroid</td>\n",
              "      <td>145</td>\n",
              "      <td>2</td>\n",
              "      <td>19</td>\n",
              "      <td>1</td>\n",
              "      <td>17</td>\n",
              "      <td>0</td>\n",
              "    </tr>\n",
              "    <tr>\n",
              "      <th>2</th>\n",
              "      <td>hypothyroid</td>\n",
              "      <td>0</td>\n",
              "      <td>0</td>\n",
              "      <td>4</td>\n",
              "      <td>1</td>\n",
              "      <td>0</td>\n",
              "      <td>0</td>\n",
              "    </tr>\n",
              "    <tr>\n",
              "      <th>3</th>\n",
              "      <td>hypothyroid</td>\n",
              "      <td>430</td>\n",
              "      <td>0</td>\n",
              "      <td>6</td>\n",
              "      <td>1</td>\n",
              "      <td>6</td>\n",
              "      <td>0</td>\n",
              "    </tr>\n",
              "    <tr>\n",
              "      <th>4</th>\n",
              "      <td>hypothyroid</td>\n",
              "      <td>7</td>\n",
              "      <td>1</td>\n",
              "      <td>57</td>\n",
              "      <td>1</td>\n",
              "      <td>44</td>\n",
              "      <td>0</td>\n",
              "    </tr>\n",
              "  </tbody>\n",
              "</table>\n",
              "</div>"
            ],
            "text/plain": [
              "        status  TSH  T3  TT4  T4U  FTI  TBG\n",
              "0  hypothyroid   30   1   15    1   10    0\n",
              "1  hypothyroid  145   2   19    1   17    0\n",
              "2  hypothyroid    0   0    4    1    0    0\n",
              "3  hypothyroid  430   0    6    1    6    0\n",
              "4  hypothyroid    7   1   57    1   44    0"
            ]
          },
          "metadata": {
            "tags": []
          },
          "execution_count": 71
        }
      ]
    },
    {
      "cell_type": "code",
      "metadata": {
        "id": "sCGUBQ08ubPo"
      },
      "source": [
        "# declaring feature vector and target variables\n",
        "X = df6.drop(['status'], axis=1)\n",
        "y = df6['status']"
      ],
      "execution_count": 72,
      "outputs": []
    },
    {
      "cell_type": "code",
      "metadata": {
        "id": "QyKebEF_up5v"
      },
      "source": [
        "# splitting data into separate training and test sets\n",
        "from sklearn.model_selection import train_test_split\n",
        "# training 80% of the dats\n",
        "X_train, X_test, y_train, y_test = train_test_split(X, y, test_size = 0.2, random_state = 0)"
      ],
      "execution_count": 73,
      "outputs": []
    },
    {
      "cell_type": "code",
      "metadata": {
        "id": "QWgt9O6Gu9Jg",
        "outputId": "ac5aa552-0d94-43fc-bb83-45744ae3088d",
        "colab": {
          "base_uri": "https://localhost:8080/",
          "height": 34
        }
      },
      "source": [
        "# checking the shape of X_train and X_test\n",
        "X_train.shape, X_test.shape"
      ],
      "execution_count": 74,
      "outputs": [
        {
          "output_type": "execute_result",
          "data": {
            "text/plain": [
              "((2530, 6), (633, 6))"
            ]
          },
          "metadata": {
            "tags": []
          },
          "execution_count": 74
        }
      ]
    },
    {
      "cell_type": "code",
      "metadata": {
        "id": "11_GbDdBvEan",
        "outputId": "0d8c56c1-f1fe-4879-a734-bc666f5c0bcd",
        "colab": {
          "base_uri": "https://localhost:8080/",
          "height": 238
        }
      },
      "source": [
        "# feature scaling\n",
        "#cols = X_train.column\n",
        "\n",
        "#\n",
        "from sklearn.preprocessing import StandardScaler\n",
        "scaler = StandardScaler()\n",
        "X_train = scaler.fit_transform(X_train)\n",
        "X_test = scaler.transform(X_test)\n",
        "\n",
        "# X_train = pd.DataFrame(X_train, columns=[cols])\n",
        "# X_test = pd.DataFrame(X_test, columns=[cols])\n",
        "# X_train.describe()\n",
        "X_train"
      ],
      "execution_count": 75,
      "outputs": [
        {
          "output_type": "execute_result",
          "data": {
            "text/plain": [
              "array([[-0.13410658,  0.38487128,  1.40568704,  0.1648068 ,  0.65096694,\n",
              "        -0.2541657 ],\n",
              "       [-0.22452354, -0.42589003,  0.09084372,  0.1648068 , -0.04566504,\n",
              "        -0.2541657 ],\n",
              "       [-0.22452354,  1.19563259,  0.22232805,  0.1648068 ,  0.4497177 ,\n",
              "        -0.2541657 ],\n",
              "       ...,\n",
              "       [-0.04368962, -0.42589003,  0.59799757,  0.1648068 ,  0.38779486,\n",
              "        -0.2541657 ],\n",
              "       [-0.17931506, -1.23665135, -0.86711355, -2.67166402,  1.23923394,\n",
              "        -0.2541657 ],\n",
              "       [-0.13410658,  0.38487128, -0.15334147,  0.1648068 ,  0.17106491,\n",
              "        -0.2541657 ]])"
            ]
          },
          "metadata": {
            "tags": []
          },
          "execution_count": 75
        }
      ]
    },
    {
      "cell_type": "code",
      "metadata": {
        "id": "f8WmoDohwzVL",
        "outputId": "9b0b8d83-1d6e-43dc-b3ee-4878b1ca2e9b",
        "colab": {
          "base_uri": "https://localhost:8080/",
          "height": 34
        }
      },
      "source": [
        "# running SVM with the default hyperparameters\n",
        "# import SVC classifier\n",
        "from sklearn.svm import SVC\n",
        "# import metrics to compute accuracy\n",
        "from sklearn.metrics import accuracy_score\n",
        "#\n",
        "# instantiate classifier with default hyperparameters\n",
        "svc=SVC() \n",
        "# fitting classifier to training set\n",
        "#\n",
        "svc.fit(X_train,y_train)\n",
        "\n",
        "# making predictions on test set\n",
        "y_pred=svc.predict(X_test)\n",
        "\n",
        "# computing and printing the accuracy score\n",
        "print('Model accuracy score with default hyperparameters: {0:0.4f}'. format(accuracy_score(y_test, y_pred)))\n"
      ],
      "execution_count": 76,
      "outputs": [
        {
          "output_type": "stream",
          "text": [
            "Model accuracy score with default hyperparameters: 0.9763\n"
          ],
          "name": "stdout"
        }
      ]
    },
    {
      "cell_type": "markdown",
      "metadata": {
        "id": "_ojsv2mAzjx-"
      },
      "source": [
        "## **`Running SVM classifier with rbf Kernel`**"
      ]
    },
    {
      "cell_type": "code",
      "metadata": {
        "id": "Tupnko0vyQnk",
        "outputId": "bb920786-1dfb-45a0-e95e-0d813646d56d",
        "colab": {
          "base_uri": "https://localhost:8080/",
          "height": 34
        }
      },
      "source": [
        "# the dataset has several outliers\n",
        "# as such, the need to minimize them requires a higher value of C\n",
        "# running SVM classifier with rbf kernel and C=100.0 we have:\n",
        "#\n",
        "svc=SVC(C=100.0) \n",
        "\n",
        "# fitting classifier to training set\n",
        "svc.fit(X_train,y_train)\n",
        "\n",
        "# making predictions on test set\n",
        "y_pred=svc.predict(X_test)\n",
        "\n",
        "# computing and printing the accuracy score\n",
        "print('Model accuracy score with rbf kernel and C=100.0 : {0:0.4f}'. format(accuracy_score(y_test, y_pred)))"
      ],
      "execution_count": 77,
      "outputs": [
        {
          "output_type": "stream",
          "text": [
            "Model accuracy score with rbf kernel and C=100.0 : 0.9842\n"
          ],
          "name": "stdout"
        }
      ]
    },
    {
      "cell_type": "code",
      "metadata": {
        "id": "m2bXvT2CyfcL",
        "outputId": "281f1fee-a979-4faf-817a-311dd0f51614",
        "colab": {
          "base_uri": "https://localhost:8080/",
          "height": 34
        }
      },
      "source": [
        "# running SVM classifier with rbf kernel and C=1000.0 we have:\n",
        "#\n",
        "svc=SVC(C=1000.0) \n",
        "\n",
        "# fitting classifier to training set\n",
        "svc.fit(X_train,y_train)\n",
        "\n",
        "# making predictions on test set\n",
        "y_pred=svc.predict(X_test)\n",
        "\n",
        "# computing and printing the accuracy score\n",
        "print('Model accuracy score with rbf kernel and C=1000.0 : {0:0.4f}'. format(accuracy_score(y_test, y_pred)))"
      ],
      "execution_count": 78,
      "outputs": [
        {
          "output_type": "stream",
          "text": [
            "Model accuracy score with rbf kernel and C=1000.0 : 0.9842\n"
          ],
          "name": "stdout"
        }
      ]
    },
    {
      "cell_type": "markdown",
      "metadata": {
        "id": "eh5ZYNB2zYSV"
      },
      "source": [
        "\n",
        "\n",
        "## **`Running SVM classifier with Linear Kernel`**\n",
        "\n"
      ]
    },
    {
      "cell_type": "code",
      "metadata": {
        "id": "GSWlly_vy5Rp",
        "outputId": "d0a4d6a0-8403-40b6-ffb6-e2acf9eb47f4",
        "colab": {
          "base_uri": "https://localhost:8080/",
          "height": 34
        }
      },
      "source": [
        "# running SVM classifier with linear kernel and C=1.0 we have:\n",
        "#\n",
        "linear_svc=SVC(kernel='linear', C=1.0) \n",
        "\n",
        "# fitting classifier to training set\n",
        "linear_svc.fit(X_train,y_train)\n",
        "\n",
        "# making predictions on test set\n",
        "y_pred_test=linear_svc.predict(X_test)\n",
        "\n",
        "# computing and printing the accuracy score\n",
        "print('Model accuracy score with linear kernel and C=1.0 : {0:0.4f}'. format(accuracy_score(y_test, y_pred_test)))"
      ],
      "execution_count": 79,
      "outputs": [
        {
          "output_type": "stream",
          "text": [
            "Model accuracy score with linear kernel and C=1.0 : 0.9763\n"
          ],
          "name": "stdout"
        }
      ]
    },
    {
      "cell_type": "code",
      "metadata": {
        "id": "9HBeQ_pg0gFI",
        "outputId": "e5dd1e21-e55d-47aa-b3c9-0868d5a4e6ef",
        "colab": {
          "base_uri": "https://localhost:8080/",
          "height": 34
        }
      },
      "source": [
        "# running SVM classifier with linear kernel and C=100.0 we have:\n",
        "#\n",
        "linear_svc100=SVC(kernel='linear', C=100.0) \n",
        "\n",
        "# fitting classifier to training set\n",
        "linear_svc100.fit(X_train, y_train)\n",
        "\n",
        "# making predictions on test set\n",
        "y_pred=linear_svc100.predict(X_test)\n",
        "\n",
        "# computing and printing the accuracy score\n",
        "print('Model accuracy score with linear kernel and C=100.0 : {0:0.4f}'. format(accuracy_score(y_test, y_pred)))"
      ],
      "execution_count": 80,
      "outputs": [
        {
          "output_type": "stream",
          "text": [
            "Model accuracy score with linear kernel and C=100.0 : 0.9763\n"
          ],
          "name": "stdout"
        }
      ]
    },
    {
      "cell_type": "code",
      "metadata": {
        "id": "X-78JkxjsHWT",
        "outputId": "7b31eabb-b140-4d0d-f00d-f48548d1d53d",
        "colab": {
          "base_uri": "https://localhost:8080/",
          "height": 34
        }
      },
      "source": [
        "# running SVM classifier with linear kernel and C=1000.0 we have:\n",
        "#\n",
        "linear_svc1000=SVC(kernel='linear', C=1000.0) \n",
        "\n",
        "# fitting classifier to training set\n",
        "linear_svc1000.fit(X_train, y_train)\n",
        "\n",
        "# making predictions on test set\n",
        "y_pred=linear_svc1000.predict(X_test)\n",
        "\n",
        "# computing and printing the accuracy score\n",
        "print('Model accuracy score with linear kernel and C=1000.0 : {0:0.4f}'. format(accuracy_score(y_test, y_pred)))"
      ],
      "execution_count": 81,
      "outputs": [
        {
          "output_type": "stream",
          "text": [
            "Model accuracy score with linear kernel and C=1000.0 : 0.9763\n"
          ],
          "name": "stdout"
        }
      ]
    },
    {
      "cell_type": "code",
      "metadata": {
        "id": "NndbFHW-1cwI",
        "outputId": "b83eb304-f36f-4103-9763-6ee09fee0990",
        "colab": {
          "base_uri": "https://localhost:8080/",
          "height": 51
        }
      },
      "source": [
        "# comparing the accuracy of both the train and test sets\n",
        "y_pred_train = linear_svc.predict(X_train)\n",
        "y_pred_train"
      ],
      "execution_count": 82,
      "outputs": [
        {
          "output_type": "execute_result",
          "data": {
            "text/plain": [
              "array(['negative', 'negative', 'negative', ..., 'negative', 'negative',\n",
              "       'negative'], dtype=object)"
            ]
          },
          "metadata": {
            "tags": []
          },
          "execution_count": 82
        }
      ]
    },
    {
      "cell_type": "code",
      "metadata": {
        "id": "wjguGOeM1kj4",
        "outputId": "770b5d39-ffb0-47fc-8a42-0952993aa93b",
        "colab": {
          "base_uri": "https://localhost:8080/",
          "height": 34
        }
      },
      "source": [
        "# printing the accuracy of the training set\n",
        "print('Training-set accuracy score: {0:0.4f}'. format(accuracy_score(y_train, y_pred_train)))"
      ],
      "execution_count": 83,
      "outputs": [
        {
          "output_type": "stream",
          "text": [
            "Training-set accuracy score: 0.9830\n"
          ],
          "name": "stdout"
        }
      ]
    },
    {
      "cell_type": "code",
      "metadata": {
        "id": "h1w0ZHF414It",
        "outputId": "9fe7becc-5ac3-4765-834c-f953e3b659c0",
        "colab": {
          "base_uri": "https://localhost:8080/",
          "height": 51
        }
      },
      "source": [
        "# checking for under and overfitting\n",
        "# printing the scores on training and test set\n",
        "\n",
        "print('Training set score: {:.4f}'.format(linear_svc.score(X_train, y_train)))\n",
        "\n",
        "print('Test set score: {:.4f}'.format(linear_svc.score(X_test, y_test)))"
      ],
      "execution_count": 84,
      "outputs": [
        {
          "output_type": "stream",
          "text": [
            "Training set score: 0.9830\n",
            "Test set score: 0.9763\n"
          ],
          "name": "stdout"
        }
      ]
    },
    {
      "cell_type": "code",
      "metadata": {
        "id": "q9M3O12W2G0A",
        "outputId": "88d148d3-e954-4913-ae9c-89ae73f170ce",
        "colab": {
          "base_uri": "https://localhost:8080/",
          "height": 68
        }
      },
      "source": [
        "# comparing the model and null accuracies\n",
        "# checking the class distribution in test set\n",
        "\n",
        "y_test.value_counts()"
      ],
      "execution_count": 85,
      "outputs": [
        {
          "output_type": "execute_result",
          "data": {
            "text/plain": [
              "negative       607\n",
              "hypothyroid     26\n",
              "Name: status, dtype: int64"
            ]
          },
          "metadata": {
            "tags": []
          },
          "execution_count": 85
        }
      ]
    },
    {
      "cell_type": "code",
      "metadata": {
        "id": "Bj6p964p2W2Z",
        "outputId": "72c141ef-db98-4ab6-9c29-2b2fb7de2a48",
        "colab": {
          "base_uri": "https://localhost:8080/",
          "height": 34
        }
      },
      "source": [
        "# checking the null accuracy score\n",
        "\n",
        "null_accuracy = (3306/(3306+274))\n",
        "##\n",
        "print('Null accuracy score: {0:0.4f}'. format(null_accuracy))"
      ],
      "execution_count": 86,
      "outputs": [
        {
          "output_type": "stream",
          "text": [
            "Null accuracy score: 0.9235\n"
          ],
          "name": "stdout"
        }
      ]
    },
    {
      "cell_type": "markdown",
      "metadata": {
        "id": "FpVLcU7n0O1G"
      },
      "source": [
        "## **`Running SVM classifier with Polynomial Kernel`**"
      ]
    },
    {
      "cell_type": "code",
      "metadata": {
        "id": "yS2gDd380-aC",
        "outputId": "5a739ab2-622a-4027-8efc-48eea208f6ac",
        "colab": {
          "base_uri": "https://localhost:8080/",
          "height": 34
        }
      },
      "source": [
        "# running SVM classifier with  with polynomial kernel and C=1.0\n",
        "poly_svc=SVC(kernel='poly', C=1.0) \n",
        "\n",
        "# fitting classifier to training set\n",
        "poly_svc.fit(X_train,y_train)\n",
        "\n",
        "# making predictions on test set\n",
        "y_pred=poly_svc.predict(X_test)\n",
        "\n",
        "# computing and printing the accuracy score\n",
        "print('Model accuracy score with polynomial kernel and C=1.0 : {0:0.4f}'. format(accuracy_score(y_test, y_pred)))"
      ],
      "execution_count": 87,
      "outputs": [
        {
          "output_type": "stream",
          "text": [
            "Model accuracy score with polynomial kernel and C=1.0 : 0.9763\n"
          ],
          "name": "stdout"
        }
      ]
    },
    {
      "cell_type": "code",
      "metadata": {
        "id": "HEPIq0j8298F",
        "outputId": "0aa24806-8fc0-4e96-8458-bb5b615b9dcb",
        "colab": {
          "base_uri": "https://localhost:8080/",
          "height": 34
        }
      },
      "source": [
        "# running SVM classifier with polynomial kernel and C=100.0\n",
        "poly_svc100=SVC(kernel='poly', C=100.0) \n",
        "\n",
        "# fitting classifier to training set\n",
        "poly_svc100.fit(X_train, y_train)\n",
        "\n",
        "# making predictions on test set\n",
        "y_pred=poly_svc100.predict(X_test)\n",
        "\n",
        "# computing and printing the accuracy score\n",
        "print('Model accuracy score with polynomial kernel and C=100.0 : {0:0.4f}'. format(accuracy_score(y_test, y_pred)))"
      ],
      "execution_count": 88,
      "outputs": [
        {
          "output_type": "stream",
          "text": [
            "Model accuracy score with polynomial kernel and C=100.0 : 0.9763\n"
          ],
          "name": "stdout"
        }
      ]
    },
    {
      "cell_type": "code",
      "metadata": {
        "id": "qhppaeOg2lKr",
        "outputId": "15328a02-f3dd-406c-8319-1edf1710d438",
        "colab": {
          "base_uri": "https://localhost:8080/",
          "height": 221
        }
      },
      "source": [
        "# Printing the Confusion Matrix and slicing it into four pieces\n",
        "##\n",
        "from sklearn.metrics import confusion_matrix\n",
        "cm = confusion_matrix(y_test, y_pred_test)\n",
        "###\n",
        "print('Confusion matrix\\n\\n', cm)\n",
        "print('\\nTrue Positives(TP) = ', cm[0,0])\n",
        "print('\\nTrue Negatives(TN) = ', cm[1,1])\n",
        "print('\\nFalse Positives(FP) = ', cm[0,1])\n",
        "print('\\nFalse Negatives(FN) = ', cm[1,0])"
      ],
      "execution_count": 89,
      "outputs": [
        {
          "output_type": "stream",
          "text": [
            "Confusion matrix\n",
            "\n",
            " [[ 17   9]\n",
            " [  6 601]]\n",
            "\n",
            "True Positives(TP) =  17\n",
            "\n",
            "True Negatives(TN) =  601\n",
            "\n",
            "False Positives(FP) =  9\n",
            "\n",
            "False Negatives(FN) =  6\n"
          ],
          "name": "stdout"
        }
      ]
    },
    {
      "cell_type": "markdown",
      "metadata": {
        "id": "dJBlGaoc3_8b"
      },
      "source": [
        "\n",
        "True Positives(TP) =  17\n",
        "\n",
        "True Negatives(TN) =  601\n",
        "\n",
        "False Positives(FP) =  9\n",
        "\n",
        "False Negatives(FN) =  6\n",
        "The confusion matrix shows 17 + 601 = 618 correct predictions and 9 + 6 = 15 incorrect predictions.\n",
        "\n",
        "In this case, we have\n",
        "\n",
        "True Positives (Actual Positive:1 and Predict Positive:1) - 17\n",
        "True Negatives (Actual Negative:0 and Predict Negative:0) - 601\n",
        "False Positives (Actual Negative:0 but Predict Positive:1) - 9 (Type I error)\n",
        "False Negatives (Actual Positive:1 but Predict Negative:0) - 6 (Type II error)"
      ]
    },
    {
      "cell_type": "code",
      "metadata": {
        "id": "JIVRbT0338Nw",
        "outputId": "212d0e00-1bf9-4620-92c7-c3a24bd67627",
        "colab": {
          "base_uri": "https://localhost:8080/",
          "height": 292
        }
      },
      "source": [
        "# visualizing the confusion matrix with seaborn heatmap\n",
        "cm_matrix = pd.DataFrame(data=cm, columns=['Actual Positive:1', 'Actual Negative:0'], \n",
        "                                 index=['Predict Positive:1', 'Predict Negative:0'])\n",
        "\n",
        "sns.heatmap(cm_matrix, annot=True, fmt='d', cmap='YlGnBu')"
      ],
      "execution_count": 90,
      "outputs": [
        {
          "output_type": "execute_result",
          "data": {
            "text/plain": [
              "<matplotlib.axes._subplots.AxesSubplot at 0x7f58c37e3b00>"
            ]
          },
          "metadata": {
            "tags": []
          },
          "execution_count": 90
        },
        {
          "output_type": "display_data",
          "data": {
            "image/png": "[encoded data removed]",
            "text/plain": [
              "<Figure size 432x288 with 2 Axes>"
            ]
          },
          "metadata": {
            "tags": []
          }
        }
      ]
    },
    {
      "cell_type": "code",
      "metadata": {
        "id": "MfturZal2lk1",
        "outputId": "8cf39caa-4911-48bb-ca84-4ed2478b978d",
        "colab": {
          "base_uri": "https://localhost:8080/",
          "height": 170
        }
      },
      "source": [
        "# classification metrices\n",
        "from sklearn.metrics import classification_report\n",
        "print(classification_report(y_test, y_pred_test))"
      ],
      "execution_count": 91,
      "outputs": [
        {
          "output_type": "stream",
          "text": [
            "              precision    recall  f1-score   support\n",
            "\n",
            " hypothyroid       0.74      0.65      0.69        26\n",
            "    negative       0.99      0.99      0.99       607\n",
            "\n",
            "    accuracy                           0.98       633\n",
            "   macro avg       0.86      0.82      0.84       633\n",
            "weighted avg       0.98      0.98      0.98       633\n",
            "\n"
          ],
          "name": "stdout"
        }
      ]
    },
    {
      "cell_type": "code",
      "metadata": {
        "id": "S7ogtwwq2k9K"
      },
      "source": [
        "# classification accuracies\n",
        "TP = cm[0,0]\n",
        "TN = cm[1,1]\n",
        "FP = cm[0,1]\n",
        "FN = cm[1,0]"
      ],
      "execution_count": 92,
      "outputs": []
    },
    {
      "cell_type": "code",
      "metadata": {
        "id": "sUCnIQUy42_8",
        "outputId": "2724a70c-f421-4c7a-e0d6-3cd659aed46d",
        "colab": {
          "base_uri": "https://localhost:8080/",
          "height": 34
        }
      },
      "source": [
        "# printing the classification accuracy\n",
        "\n",
        "classification_accuracy = (TP + TN) / float(TP + TN + FP + FN)\n",
        "print('Classification accuracy : {0:0.4f}'.format(classification_accuracy))"
      ],
      "execution_count": 93,
      "outputs": [
        {
          "output_type": "stream",
          "text": [
            "Classification accuracy : 0.9763\n"
          ],
          "name": "stdout"
        }
      ]
    },
    {
      "cell_type": "code",
      "metadata": {
        "id": "l0-wpFXJ2ka4",
        "outputId": "0d05d11f-4002-4e61-abd3-f4745dfdb4ca",
        "colab": {
          "base_uri": "https://localhost:8080/",
          "height": 34
        }
      },
      "source": [
        "# printing the classification error\n",
        "\n",
        "classification_error = (FP + FN) / float(TP + TN + FP + FN)\n",
        "print('Classification error : {0:0.4f}'.format(classification_error))"
      ],
      "execution_count": 94,
      "outputs": [
        {
          "output_type": "stream",
          "text": [
            "Classification error : 0.0237\n"
          ],
          "name": "stdout"
        }
      ]
    },
    {
      "cell_type": "code",
      "metadata": {
        "id": "6Hyszo-e5FE5",
        "outputId": "ee47e16f-fe7c-437f-d05b-226ab2805274",
        "colab": {
          "base_uri": "https://localhost:8080/",
          "height": 34
        }
      },
      "source": [
        "# printing the precision score\n",
        "\n",
        "precision = TP / float(TP + FP)\n",
        "print('Precision : {0:0.4f}'.format(precision))"
      ],
      "execution_count": 95,
      "outputs": [
        {
          "output_type": "stream",
          "text": [
            "Precision : 0.6538\n"
          ],
          "name": "stdout"
        }
      ]
    },
    {
      "cell_type": "code",
      "metadata": {
        "id": "sYAhcJf35MXC",
        "outputId": "d82a3ad6-6287-4092-95f9-0b4322eb2d41",
        "colab": {
          "base_uri": "https://localhost:8080/",
          "height": 34
        }
      },
      "source": [
        "# printing recall\n",
        "\n",
        "recall = TP / float(TP + FN)\n",
        "print('Recall or Sensitivity : {0:0.4f}'.format(recall))"
      ],
      "execution_count": 96,
      "outputs": [
        {
          "output_type": "stream",
          "text": [
            "Recall or Sensitivity : 0.7391\n"
          ],
          "name": "stdout"
        }
      ]
    },
    {
      "cell_type": "code",
      "metadata": {
        "id": "RSp7c32v5nta",
        "outputId": "54fa2059-f2c6-4744-b5fa-bee201c2cea3",
        "colab": {
          "base_uri": "https://localhost:8080/",
          "height": 34
        }
      },
      "source": [
        "# specificity\n",
        "\n",
        "specificity = TN / (TN + FP)\n",
        "print('Specificity : {0:0.4f}'.format(specificity))"
      ],
      "execution_count": 97,
      "outputs": [
        {
          "output_type": "stream",
          "text": [
            "Specificity : 0.9852\n"
          ],
          "name": "stdout"
        }
      ]
    },
    {
      "cell_type": "code",
      "metadata": {
        "id": "kNwh-M9E6AN9",
        "outputId": "a6b6561c-0449-4528-814e-98d1aa2e3e07",
        "colab": {
          "base_uri": "https://localhost:8080/",
          "height": 34
        }
      },
      "source": [
        "# true positive rate\n",
        "\n",
        "true_positive_rate = TP / float(TP + FN)\n",
        "print('True Positive Rate : {0:0.4f}'.format(true_positive_rate))"
      ],
      "execution_count": 98,
      "outputs": [
        {
          "output_type": "stream",
          "text": [
            "True Positive Rate : 0.7391\n"
          ],
          "name": "stdout"
        }
      ]
    },
    {
      "cell_type": "code",
      "metadata": {
        "id": "UoHD22OU6Ql5",
        "outputId": "a9238645-b8fb-49a4-8c9b-7df5c58a52c2",
        "colab": {
          "base_uri": "https://localhost:8080/",
          "height": 34
        }
      },
      "source": [
        "# false positive rate\n",
        "false_positive_rate = FP / float(FP + TN)\n",
        "print('False Positive Rate : {0:0.4f}'.format(false_positive_rate))"
      ],
      "execution_count": 99,
      "outputs": [
        {
          "output_type": "stream",
          "text": [
            "False Positive Rate : 0.0148\n"
          ],
          "name": "stdout"
        }
      ]
    },
    {
      "cell_type": "markdown",
      "metadata": {
        "id": "jB-YC3iS6kXO"
      },
      "source": [
        "## **`Hyperparameter Optimization using GridSearch CV`**"
      ]
    },
    {
      "cell_type": "code",
      "metadata": {
        "id": "ZZWz73j7605r",
        "outputId": "ac3e1556-d05e-46bd-a405-d7da0c460498",
        "colab": {
          "base_uri": "https://localhost:8080/",
          "height": 323
        }
      },
      "source": [
        "# import GridSearchCV\n",
        "from sklearn.model_selection import GridSearchCV\n",
        "# import SVC classifier\n",
        "from sklearn.svm import SVC\n",
        "# runing SVM classifier with default hyperparameters with kernel=rbf, C=1.0 and gamma=auto\n",
        "svc=SVC() \n",
        "# declare parameters for hyperparameter tuning\n",
        "parameters = [ {'C':[1, 10, 100, 1000], 'kernel':['linear']},\n",
        "               {'C':[1, 10, 100, 1000], 'kernel':['rbf'], 'gamma':[0.1, 0.2, 0.3, 0.4, 0.5, 0.6, 0.7, 0.8, 0.9]},\n",
        "               {'C':[1, 10, 100, 1000], 'kernel':['poly'], 'degree': [2,3,4] ,'gamma':[0.01,0.02,0.03,0.04,0.05]} \n",
        "              ]\n",
        "#\n",
        "grid_search = GridSearchCV(estimator = svc,  \n",
        "                           param_grid = parameters,\n",
        "                           scoring = 'accuracy',\n",
        "                           cv = 5,\n",
        "                           verbose=0)\n",
        "#\n",
        "grid_search.fit(X_train, y_train)"
      ],
      "execution_count": 100,
      "outputs": [
        {
          "output_type": "execute_result",
          "data": {
            "text/plain": [
              "GridSearchCV(cv=5, error_score=nan,\n",
              "             estimator=SVC(C=1.0, break_ties=False, cache_size=200,\n",
              "                           class_weight=None, coef0=0.0,\n",
              "                           decision_function_shape='ovr', degree=3,\n",
              "                           gamma='scale', kernel='rbf', max_iter=-1,\n",
              "                           probability=False, random_state=None, shrinking=True,\n",
              "                           tol=0.001, verbose=False),\n",
              "             iid='deprecated', n_jobs=None,\n",
              "             param_grid=[{'C': [1, 10, 100, 1000], 'kernel': ['linear']},\n",
              "                         {'C': [1, 10, 100, 1000],\n",
              "                          'gamma': [0.1, 0.2, 0.3, 0.4, 0.5, 0.6, 0.7, 0.8,\n",
              "                                    0.9],\n",
              "                          'kernel': ['rbf']},\n",
              "                         {'C': [1, 10, 100, 1000], 'degree': [2, 3, 4],\n",
              "                          'gamma': [0.01, 0.02, 0.03, 0.04, 0.05],\n",
              "                          'kernel': ['poly']}],\n",
              "             pre_dispatch='2*n_jobs', refit=True, return_train_score=False,\n",
              "             scoring='accuracy', verbose=0)"
            ]
          },
          "metadata": {
            "tags": []
          },
          "execution_count": 100
        }
      ]
    },
    {
      "cell_type": "code",
      "metadata": {
        "id": "RG8dfYOO7Epk",
        "outputId": "92070366-9ff5-4d15-a7ff-0b3ccae2006e",
        "colab": {
          "base_uri": "https://localhost:8080/",
          "height": 255
        }
      },
      "source": [
        "# examining the best model\n",
        "# best score achieved during the GridSearchCV\n",
        "print('GridSearch CV best score : {:.4f}\\n\\n'.format(grid_search.best_score_))\n",
        "# print parameters that give the best results\n",
        "print('Parameters that give the best results :','\\n\\n', (grid_search.best_params_))\n",
        "# print estimator that was chosen by the GridSearch\n",
        "print('\\n\\nEstimator that was chosen by the search :','\\n\\n', (grid_search.best_estimator_))"
      ],
      "execution_count": 101,
      "outputs": [
        {
          "output_type": "stream",
          "text": [
            "GridSearch CV best score : 0.9862\n",
            "\n",
            "\n",
            "Parameters that give the best results : \n",
            "\n",
            " {'C': 100, 'gamma': 0.1, 'kernel': 'rbf'}\n",
            "\n",
            "\n",
            "Estimator that was chosen by the search : \n",
            "\n",
            " SVC(C=100, break_ties=False, cache_size=200, class_weight=None, coef0=0.0,\n",
            "    decision_function_shape='ovr', degree=3, gamma=0.1, kernel='rbf',\n",
            "    max_iter=-1, probability=False, random_state=None, shrinking=True,\n",
            "    tol=0.001, verbose=False)\n"
          ],
          "name": "stdout"
        }
      ]
    },
    {
      "cell_type": "markdown",
      "metadata": {
        "id": "0ZCHdzjTQ6Bq"
      },
      "source": [
        "from the analysis and predictions above, the parameters that did give the best results were Parameters that give the best results : \n",
        "\n",
        " {'C': 100, 'gamma': 0.1, 'kernel': 'rbf'}"
      ]
    },
    {
      "cell_type": "code",
      "metadata": {
        "id": "k-_silxj7nSh",
        "outputId": "43d50adb-66a3-4b8f-ff4e-a184fa716746",
        "colab": {
          "base_uri": "https://localhost:8080/",
          "height": 34
        }
      },
      "source": [
        "# calculating GridSearch CV score on test set\n",
        "\n",
        "print('GridSearch CV score on test set: {0:0.4f}'.format(grid_search.score(X_test, y_test)))"
      ],
      "execution_count": 102,
      "outputs": [
        {
          "output_type": "stream",
          "text": [
            "GridSearch CV score on test set: 0.9842\n"
          ],
          "name": "stdout"
        }
      ]
    }
  ]
}